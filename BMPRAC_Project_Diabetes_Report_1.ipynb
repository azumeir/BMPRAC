{
  "nbformat": 4,
  "nbformat_minor": 0,
  "metadata": {
    "colab": {
      "provenance": [],
      "toc_visible": true
    },
    "kernelspec": {
      "name": "python3",
      "display_name": "Python 3"
    },
    "language_info": {
      "name": "python"
    }
  },
  "cells": [
    {
      "cell_type": "markdown",
      "source": [
        "# **Summary**"
      ],
      "metadata": {
        "id": "VcDoFjKg67Xo"
      }
    },
    {
      "cell_type": "markdown",
      "source": [
        "This project focuses on investigating patterns in the variables that affect the diagnosis of diabetes, using two main markers, HbA1c and fasting plasma glucose on US residents based on NHANES data, supported by findings from other studies. We analyzed how the threshold of these markers vary based on different demographic groups. This allowed us to identify any inconsistencies during diagnosis, emphasizing the risk of misclassification when relying on the results of only one marker. Lastly, we assess how well self-reported diabetes statistics aligns with the clinical diagnostic criteria, and track the annual trends of HbA1c and FPG levels over time."
      ],
      "metadata": {
        "id": "fKN_V6LC_7w3"
      }
    },
    {
      "cell_type": "markdown",
      "source": [
        "# **Background and rational**"
      ],
      "metadata": {
        "id": "VCG-vfFWxMDI"
      }
    },
    {
      "cell_type": "markdown",
      "source": [
        "### Issues that this research question addresses"
      ],
      "metadata": {
        "id": "4bgoSKiYaLnH"
      }
    },
    {
      "cell_type": "markdown",
      "source": [
        "Over the course of many years, the number of people diagnosed with diabetes has increased significantly, with around 1.2 million new diagnoses annually. In 2021, 38.1 million American adults -- 1 in 9 individuals -- were diagnosed with diabetes. Surprisingly, 97.6 million American adults were reported to be diagnosed with prediabetes. However, among the 38.1 million adults with diabetes, 8.7 million of them were undiagnosed. While this undiagnosed rate may seem humble relative to the entire U.S. population, it is far more worrisome on a global scale as 239.7 million diabetic adults -- nearly one in two -- were unaware of their condition.\n",
        "\n",
        "There are several reasons that promote this diagnostic gap. To begin with, a lack of awareness and health education, particularly in underdeveloped nations, means many are not knowledgeable of the indications of diabetes or may have misconceptions about the disease. Next, limited or irregular health screening, especially among younger adults under the age of 45 further contributes to delayed or missed diagnoses. Most importantly, diagnostic limitations in the biomarkers used – Hemoglobin A1c (HbA1c) and Fasting Plasma Glucose (FPG) – may lead to misclassification if only one test is conducted. Carson et al. (2010) found that while there is reasonable agreement between HbA1c ≥ 6.5% and FPG ≥ 126 mg/dL for diagnosing diabetes, they do not consistently identify the same individuals, emphasizing the risk of misclassification when relying on one biomarker.\n",
        "\n",
        "Furthermore, the latest trends show a 1-2% decrease in undiagnosed diabetes, likely attributed to improved screening. However, Michael et al. (2022) warned that using only a single unusual biomarker to define diabetes leads to exaggeration of diabetes prevalence. Therefore, confirmation with a second test is proposed to increase diagnostic confidence.\n",
        "\n",
        "This study further allows us to attain a deeper understanding of diagnostic discrepancies across different demographic groups. For example, different genders, ethnic groups or ages might have different prevalence rates of getting diabetes.\n",
        "\n",
        "Taken together, this research question intends to assess how the 2 biomarkers –HbA1c and FPG– identify diabetes and prediabetes across different demographic groups, and how these laboratory-based measures contrast to individuals’ self-reported diabetes status.\n",
        "\n",
        "\n",
        "\n",
        "\n",
        "\n",
        "\n"
      ],
      "metadata": {
        "id": "uP1PDykkaX-c"
      }
    },
    {
      "cell_type": "markdown",
      "source": [
        "### Why is this research question important?"
      ],
      "metadata": {
        "id": "z3U2lfXpa5qa"
      }
    },
    {
      "cell_type": "markdown",
      "source": [
        "From a public health perspective, this study allows individuals to understand the significance of using both HbA1c and FPG tests together to reduce the number of undiagnosed individuals. Consequently, these patients would be able to make changes to their lifestyle or get treatment done in time in order to prevent health complications. This research also provides an insight on which demographic group has a higher prevalence of diabetes and prediabetes, allowing for targeted interventions and resource allocation.\n",
        "\n",
        "From a biomedical science point of view, the findings from this research question would be able to tell us the diagnostic validity of HbA1c and FPG. It addresses the question of “Which biomarker (HbA1c or FPG) is more accurate and clinically useful for diagnosing prediabetes and diabetes?” Furthermore,it allows us to contribute to refining diagnostic thresholds. Letting us rethink whether the current cutoff (6.5% HbA1c or 126 mg/dL FPG) is appropriate or needs to be reduced, since so many people remain undiagnosed under the current criteria or as mistakenly self-reported as diabetic.\n"
      ],
      "metadata": {
        "id": "4oFHngfmbGC8"
      }
    },
    {
      "cell_type": "markdown",
      "source": [
        "### How does this project extend existing work?"
      ],
      "metadata": {
        "id": "RWyy1hODbNEB"
      }
    },
    {
      "cell_type": "markdown",
      "source": [
        "Existing research often assume that individuals with diabetes or prediabetes are accurately recognized based on self-reported information. This assumption, however, fails to acknowledge a significant gap—misclassification, in which individuals with diabetes or prediabetes go undiagnosed or are misidentified due to potential dependence on a single biomarker (HbA1c or FPG). Geiss et al. (2018) highlighted that depending on one test may inflate the prevalence of undiagnosed diabetes by as much as 60%, and advised that a follow-up confirmatory test should be conducted to enhance diagnostic accuracy. Moreover, self-reported data may misclassify diagnosed individuals as undiagnosed due to reporting errors. To address this issue, our project collected NHANES data, which combines self-reports with both HbA1c and FPG laboratory tests to capture both diagnosed and undiagnosed cases of diabetes, thereby better estimate the true prevalence of diabetes in the U.S. population.\n",
        "\n",
        "Most of the existing work uses older NHANES data to analyze their result, for example, from 1999 to 2006, in comparing self-reported diabetes and undiagnosed diabetes using HbA1c and FPG. This project is more up-to-date since it focuses on more recent data from 2007 to 2023 and helps in reflecting the current clinical practice and guidelines. The result we gain from this project would be more relevant to the current practice compared to the existing work that has been done. We also explore the trends over a long period of time, which provides a bigger sample size, allowing us to analyze the subgroups.\n",
        "\n",
        "\n"
      ],
      "metadata": {
        "id": "nrvXIFr8bUuR"
      }
    },
    {
      "cell_type": "markdown",
      "source": [
        "### How do we use NHANES data?"
      ],
      "metadata": {
        "id": "IvxsGicTbbAS"
      }
    },
    {
      "cell_type": "markdown",
      "source": [
        "Using data from the National Health and Nutrition Examination Survey (NHANES), we are able to get data that combines interviews, examinations, laboratory, medication use, demographics and diet.\n",
        "\n",
        "We are able to search for our primary biomarkers, Fasting Glucose (LBXGLU) and HbA1c (LBXGH), which are the main criteria in identifying diabetes in patients. NHANES also provides standardized data on sex, race/ethnicity, income, and education, which we use to analyse discrepancies and variation. The questionnaire feedback data allows us to identify self-reported vs non-self-reported diabetes. The medication data provides us with the medication consumed, which is a variable that we need to take into account as it would affect glucose levels in patients, affecting the accuracy of the analysis.\n",
        "\n"
      ],
      "metadata": {
        "id": "SC-0aKnVbh8h"
      }
    },
    {
      "cell_type": "markdown",
      "source": [
        "# Research question and objectives"
      ],
      "metadata": {
        "id": "CwcCXA3_enT5"
      }
    },
    {
      "cell_type": "markdown",
      "source": [
        "### Our research question"
      ],
      "metadata": {
        "id": "HKJ3bZcbfima"
      }
    },
    {
      "cell_type": "markdown",
      "source": [
        "How accurately do HbA1c and Fasting Plasma Glucose identify prediabetes and diabetes across different demographic groups, and how do these measures compare with self-reported diabetes status among U.S. residents?\n"
      ],
      "metadata": {
        "id": "U7fL1Di3euZx"
      }
    },
    {
      "cell_type": "markdown",
      "source": [
        "### Our objectives"
      ],
      "metadata": {
        "id": "_1tHrwRJfoip"
      }
    },
    {
      "cell_type": "markdown",
      "source": [
        "1) How does the prevalence of prediabetes and diabetes (based on LBXGLU and LBXGH thresholds) vary by demographic factors such as sex, race/ethnicity, and age?\n",
        "\n",
        "2) What proportion of individuals identified as prediabetic/diabetes by HbA1c are missed by fasting glucose criteria, and vice versa, using the data from 2007 to 2023?\n",
        "\n",
        "3) Among those who self-report diabetes, how many have HbA1c <6.5% or fasting glucose <126 mg/dL (i.e., potentially well-controlled or misclassified)?"
      ],
      "metadata": {
        "id": "vC3tH8gJfvki"
      }
    },
    {
      "cell_type": "markdown",
      "source": [
        "# First objective"
      ],
      "metadata": {
        "id": "u2S5TuYAhX4H"
      }
    },
    {
      "cell_type": "markdown",
      "source": [
        "How does the prevalence of prediabetes and diabetes (based on LBXGLU and LBXGH thresholds) vary by demographic factors such as sex, race/ethnicity, and age?\n",
        "\n",
        "Defined by abnormally high blood glucose levels, diabetes is a long-term condition where the body is unable to produce or react to insulin. Leaving it untreated can cause serious body complications. While prediabetes, which is a precursor to type 2 diabetes, is when blood glucose concentration is elevated, but not high enough to be diabetes. Advancement from prediabetes to type 2 diabetes can be delayed or prevented if detected early.\n",
        "\n",
        "\n",
        "Therefore, understanding how the prevalence of prediabetes and diabetes varies by different demographic factors is imperative. This report utilises statistics from NHANES, specifically centering on 2 biomarkers: Fasting Plasma Glucose (LBXGLU) and Haemoglobin A1c (LBXGH). These biomarkers provide us with standardized blood sugar level measurements in the U.S.\n",
        "\n",
        "\n",
        "\n",
        "LBXGLU measures the amount of glucose in the blood after fasting for at least 8 hours.\n",
        "Thresholds:\n",
        "\n",
        "- Normal: <100 mg/dL\n",
        "\n",
        "- Prediabetes: 100-125 mg/dL\n",
        "\n",
        "- Diabetes: ≥ 126 mg/dL\n",
        "\n",
        "LBXGH measures the percentage of haemoglobin in the blood that has glucose attached to it. It reflects average blood sugar levels over the past 2-3 months\n",
        "Thresholds:\n",
        "\n",
        "- Normal: <5.7%\n",
        "\n",
        "- Prediabetes: 5.7-6.4%\n",
        "\n",
        "- Diabetes: ≥ 6.5%\n",
        "\n",
        "These biomarker thresholds form the basis for identifying the prevalence of prediabetes and diabetes in the U.S population.\n",
        "\n",
        "Our aim is to understand patterns in how common diabetes and prediabetes are among different groups of people. We want to find out. Do men or women have a higher prevalence of diabetes? Do certain racial groups have higher rates? Does age affect diabetes risk? Identifying such disparities can help inform targeted public health interventions and resource allocation.\n",
        "\n",
        "Sex: Male vs Female\n",
        "\n",
        "According to NHANES data 1999-2000,  males have a higher prevalence of diabetes and prediabetes compared to females. During this period, 9.3% of men were diagnosed with diabetes compared to 8.1% of women. Similarly, for prediabetes, 8.3% of men had prediabetes, while women had a lower prevalence at 4.5%.\n",
        "\n",
        "\n",
        "This trend is further supported by NHANES data 2017-2020, males were also found to have a higher prevalence of diabetes and prediabetes compared to females. During this period, 15.4% of men were diagnosed with diabetes compared to 14.1% of women. Similarly, for prediabetes, 41.9% of men had prediabetes, while women had a lower prevalence at 34.3%.\n",
        "\n",
        "\n",
        "The consistently higher prevalence of both diabetes and prediabetes in men emphasises the need for targeted public health interventions.\n",
        "\n",
        "\n",
        "\n"
      ],
      "metadata": {
        "id": "CBvRuB0Mhf0U"
      }
    },
    {
      "cell_type": "code",
      "source": [
        "import pandas as pd\n",
        "\n",
        "# Create a dictionary with the data\n",
        "data = {\n",
        "    'Sex': ['Male', 'Female'],\n",
        "    'Diabetes Prevalence (%)': [9.3, 8.1],\n",
        "    'Prediabetes Prevalence (%)': [8.3, 4.5]\n",
        "}\n",
        "\n",
        "# Convert the dictionary to a pandas DataFrame\n",
        "df = pd.DataFrame(data)\n",
        "\n",
        "# Set 'Sex' as the index\n",
        "df.set_index('Sex', inplace=True)\n",
        "\n",
        "# Print the table with labels\n",
        "print(\"Prevalence of Diabetes and Prediabetes by Sex\")\n",
        "print(\"Source: NHANES 1999–2000\\n\")\n",
        "print(df)"
      ],
      "metadata": {
        "colab": {
          "base_uri": "https://localhost:8080/"
        },
        "id": "xwYMZkbMlG7q",
        "outputId": "019e29ff-6c6d-405f-883f-4239bd65d9c4"
      },
      "execution_count": null,
      "outputs": [
        {
          "output_type": "stream",
          "name": "stdout",
          "text": [
            "Prevalence of Diabetes and Prediabetes by Sex\n",
            "Source: NHANES 1999–2000\n",
            "\n",
            "        Diabetes Prevalence (%)  Prediabetes Prevalence (%)\n",
            "Sex                                                        \n",
            "Male                        9.3                         8.3\n",
            "Female                      8.1                         4.5\n"
          ]
        }
      ]
    },
    {
      "cell_type": "code",
      "source": [
        "import pandas as pd\n",
        "\n",
        "# Create a dictionary with the new data\n",
        "data = {\n",
        "    'Sex': ['Male', 'Female'],\n",
        "    'Diabetes Prevalence (%)': [15.4, 14.1],\n",
        "    'Prediabetes Prevalence (%)': [41.9, 34.3]\n",
        "}\n",
        "\n",
        "# Convert the dictionary to a DataFrame\n",
        "df = pd.DataFrame(data)\n",
        "\n",
        "# Set 'Sex' as index (optional for cleaner output)\n",
        "df.set_index('Sex', inplace=True)\n",
        "\n",
        "# Display the table with labels\n",
        "print(\"Prevalence of Diabetes and Prediabetes by Sex\")\n",
        "print(\"Source: NHANES 2017–2020\\n\")\n",
        "print(df)"
      ],
      "metadata": {
        "colab": {
          "base_uri": "https://localhost:8080/"
        },
        "id": "hGCjQ87TlJ0X",
        "outputId": "3d905b17-dc06-4d5b-ec20-078828b0b968"
      },
      "execution_count": null,
      "outputs": [
        {
          "output_type": "stream",
          "name": "stdout",
          "text": [
            "Prevalence of Diabetes and Prediabetes by Sex\n",
            "Source: NHANES 2017–2020\n",
            "\n",
            "        Diabetes Prevalence (%)  Prediabetes Prevalence (%)\n",
            "Sex                                                        \n",
            "Male                       15.4                        41.9\n",
            "Female                     14.1                        34.3\n"
          ]
        }
      ]
    },
    {
      "cell_type": "code",
      "source": [
        "import pandas as pd\n",
        "import matplotlib.pyplot as plt\n",
        "import numpy as np\n",
        "\n",
        "# Data for diabetes and prediabetes\n",
        "years = ['1999–2000', '2017–2020']\n",
        "sexes = ['Male', 'Female']\n",
        "\n",
        "# Diabetes prevalence data\n",
        "diabetes_data = {\n",
        "    'Male': [9.3, 15.4],\n",
        "    'Female': [8.1, 14.1]\n",
        "}\n",
        "\n",
        "# Prediabetes prevalence data\n",
        "prediabetes_data = {\n",
        "    'Male': [8.3, 41.9],\n",
        "    'Female': [4.5, 34.3]\n",
        "}\n",
        "\n",
        "# Create DataFrames\n",
        "df_diabetes = pd.DataFrame(diabetes_data, index=years)\n",
        "df_prediabetes = pd.DataFrame(prediabetes_data, index=years)\n",
        "\n",
        "# Plotting Diabetes Prevalence\n",
        "x = np.arange(len(sexes))  # [0, 1] for Male and Female\n",
        "width = 0.35\n",
        "\n",
        "fig, ax = plt.subplots()\n",
        "bars1 = ax.bar(x - width/2, df_diabetes.loc['1999–2000'], width, label='1999–2000')\n",
        "bars2 = ax.bar(x + width/2, df_diabetes.loc['2017–2020'], width, label='2017–2020')\n",
        "\n",
        "ax.set_ylabel('Diabetes Prevalence (%)')\n",
        "ax.set_title('Diabetes Prevalence by Sex (NHANES)')\n",
        "ax.set_xticks(x)\n",
        "ax.set_xticklabels(sexes)\n",
        "ax.legend()\n",
        "plt.ylim(0, max(df_diabetes.max()) + 5)\n",
        "plt.grid(axis='y', linestyle='--', alpha=0.5)\n",
        "\n",
        "# Add values on top of bars\n",
        "for bar in bars1 + bars2:\n",
        "    yval = bar.get_height()\n",
        "    ax.text(bar.get_x() + bar.get_width()/2.0, yval + 0.5, f'{yval}%', ha='center', va='bottom', fontsize=9)\n",
        "\n",
        "plt.tight_layout()\n",
        "plt.show()\n",
        "\n",
        "# Plotting Prediabetes Prevalence\n",
        "fig, ax = plt.subplots()\n",
        "bars1 = ax.bar(x - width/2, df_prediabetes.loc['1999–2000'], width, label='1999–2000')\n",
        "bars2 = ax.bar(x + width/2, df_prediabetes.loc['2017–2020'], width, label='2017–2020')\n",
        "\n",
        "ax.set_ylabel('Prediabetes Prevalence (%)')\n",
        "ax.set_title('Prediabetes Prevalence by Sex (NHANES)')\n",
        "ax.set_xticks(x)\n",
        "ax.set_xticklabels(sexes)\n",
        "ax.legend()\n",
        "plt.ylim(0, max(df_prediabetes.max()) + 5)\n",
        "plt.grid(axis='y', linestyle='--', alpha=0.5)\n",
        "\n",
        "# Add values on top of bars\n",
        "for bar in bars1 + bars2:\n",
        "    yval = bar.get_height()\n",
        "    ax.text(bar.get_x() + bar.get_width()/2.0, yval + 0.5, f'{yval}%', ha='center', va='bottom', fontsize=9)\n",
        "\n",
        "plt.tight_layout()\n",
        "plt.show()"
      ],
      "metadata": {
        "colab": {
          "base_uri": "https://localhost:8080/",
          "height": 957
        },
        "id": "lN4SVsP5mMN6",
        "outputId": "8ec6fb9a-9b64-4f94-c1f1-b6786b4ad9ec"
      },
      "execution_count": null,
      "outputs": [
        {
          "output_type": "display_data",
          "data": {
            "text/plain": [
              "<Figure size 640x480 with 1 Axes>"
            ],
            "image/png": "[encoded data removed]"
          },
          "metadata": {}
        },
        {
          "output_type": "display_data",
          "data": {
            "text/plain": [
              "<Figure size 640x480 with 1 Axes>"
            ],
            "image/png": "[encoded data removed]"
          },
          "metadata": {}
        }
      ]
    },
    {
      "cell_type": "markdown",
      "source": [
        "Race/Ethnicity\n",
        "\n",
        "\n",
        "\n",
        "According to NHANES dataset (1999-2000), the prevalence of diabetes was highest among non-Hispanic black adults. During this period, 14.9% of non-Hispanic black adults were diagnosed with diabetes, followed by 12.0% of Hispanic, and lastly 7.4% non-Hispanic white. Prediabetes also varied by race/ethnicity during this period. Hispanic adults had the highest rate at 6.7%, followed by 6.3% of non-Hispanic black, and lastly 5.7% non-Hispanic white.\n",
        "\n",
        "\n",
        "The NHANES dataset (2017-2020) also showed that the prevalence of diabetes was highest among non-Hispanic black adults. During this period, 17.4% of non-hispanic black adults were diagnosed with diabetes, followed by 16.4% of non-hispanic asian, 15.5% Hispanic, and lastly 13.6% non-hispanic white. Prediabetes also varied by race/ethnicity during this period. Non-hispanic black adults had the highest rate at 39.2%, followed by 38.7% of non-hispanic white, 37.3% non-hispanic asian, and lastly 34.5% Hispanic.\n",
        "\n",
        "\n",
        "Across all datasets, racial and ethnic minorities, particularly non-Hispanic blacks,  have a higher percentage-based prevalence of both diabetes and prediabetes.\n",
        "\n",
        "\n"
      ],
      "metadata": {
        "id": "6mvV7HW2mXks"
      }
    },
    {
      "cell_type": "code",
      "source": [
        "import pandas as pd\n",
        "\n",
        "# Create the dataset\n",
        "data = {\n",
        "    'Race/Ethnicity': [\n",
        "        'Non-Hispanic Black',\n",
        "        'Non-Hispanic White',\n",
        "        'Hispanic'\n",
        "    ],\n",
        "    'Diabetes Prevalence (%)': [14.9, 7.4, 12.0],\n",
        "    'Prediabetes Prevalence (%)': [6.3, 5.7, 6.7]\n",
        "}\n",
        "\n",
        "# Convert to DataFrame\n",
        "df = pd.DataFrame(data)\n",
        "\n",
        "# Set index (optional for formatting)\n",
        "df.set_index('Race/Ethnicity', inplace=True)\n",
        "\n",
        "# Print the table with title and source\n",
        "print(\"Prevalence of Diabetes and Prediabetes by Race/Ethnicity\")\n",
        "print(\"Source: NHANES 1999–2000\\n\")\n",
        "print(df)"
      ],
      "metadata": {
        "colab": {
          "base_uri": "https://localhost:8080/"
        },
        "id": "4ZaTRVmMmoov",
        "outputId": "92f0b826-4da0-432a-a689-d93cb5b0a5d0"
      },
      "execution_count": null,
      "outputs": [
        {
          "output_type": "stream",
          "name": "stdout",
          "text": [
            "Prevalence of Diabetes and Prediabetes by Race/Ethnicity\n",
            "Source: NHANES 1999–2000\n",
            "\n",
            "                    Diabetes Prevalence (%)  Prediabetes Prevalence (%)\n",
            "Race/Ethnicity                                                         \n",
            "Non-Hispanic Black                     14.9                         6.3\n",
            "Non-Hispanic White                      7.4                         5.7\n",
            "Hispanic                               12.0                         6.7\n"
          ]
        }
      ]
    },
    {
      "cell_type": "code",
      "source": [
        "import pandas as pd\n",
        "\n",
        "# Create the dataset\n",
        "data = {\n",
        "    'Race/Ethnicity': [\n",
        "        'Non-Hispanic Black',\n",
        "        'Non-Hispanic White',\n",
        "        'Hispanic',\n",
        "        'Non-Hispanic Asian'\n",
        "    ],\n",
        "    'Diabetes Prevalence (%)': [17.4, 13.6, 15.5, 16.4],\n",
        "    'Prediabetes Prevalence (%)': [39.2, 38.7, 34.5, 37.3]\n",
        "}\n",
        "\n",
        "# Convert to DataFrame\n",
        "df = pd.DataFrame(data)\n",
        "\n",
        "# Set index (optional for cleaner formatting)\n",
        "df.set_index('Race/Ethnicity', inplace=True)\n",
        "\n",
        "# Print the table with labels\n",
        "print(\"Prevalence of Diabetes and Prediabetes by Race/Ethnicity\")\n",
        "print(\"Source: NHANES 2017–2020\\n\")\n",
        "print(df)"
      ],
      "metadata": {
        "colab": {
          "base_uri": "https://localhost:8080/"
        },
        "id": "Bm76sMlpoXA0",
        "outputId": "27a8f726-9264-47c3-bb7f-5c13615e7941"
      },
      "execution_count": null,
      "outputs": [
        {
          "output_type": "stream",
          "name": "stdout",
          "text": [
            "Prevalence of Diabetes and Prediabetes by Race/Ethnicity\n",
            "Source: NHANES 2017–2020\n",
            "\n",
            "                    Diabetes Prevalence (%)  Prediabetes Prevalence (%)\n",
            "Race/Ethnicity                                                         \n",
            "Non-Hispanic Black                     17.4                        39.2\n",
            "Non-Hispanic White                     13.6                        38.7\n",
            "Hispanic                               15.5                        34.5\n",
            "Non-Hispanic Asian                     16.4                        37.3\n"
          ]
        }
      ]
    },
    {
      "cell_type": "code",
      "source": [
        "import pandas as pd\n",
        "import matplotlib.pyplot as plt\n",
        "import numpy as np\n",
        "\n",
        "# Create diabetes data\n",
        "diabetes_data = {\n",
        "    '1999–2000': {\n",
        "        'Non-Hispanic Black': 14.9,\n",
        "        'Non-Hispanic White': 7.4,\n",
        "        'Hispanic': 12.0\n",
        "    },\n",
        "    '2017–2020': {\n",
        "        'Non-Hispanic Black': 17.4,\n",
        "        'Non-Hispanic White': 13.6,\n",
        "        'Hispanic': 15.5,\n",
        "        'Non-Hispanic Asian': 16.4\n",
        "    }\n",
        "}\n",
        "\n",
        "# Create prediabetes data\n",
        "prediabetes_data = {\n",
        "    '1999–2000': {\n",
        "        'Non-Hispanic Black': 6.3,\n",
        "        'Non-Hispanic White': 5.7,\n",
        "        'Hispanic': 6.7\n",
        "    },\n",
        "    '2017–2020': {\n",
        "        'Non-Hispanic Black': 39.2,\n",
        "        'Non-Hispanic White': 38.7,\n",
        "        'Hispanic': 34.5,\n",
        "        'Non-Hispanic Asian': 37.3\n",
        "    }\n",
        "}\n",
        "\n",
        "# Combine and align categories\n",
        "all_groups = sorted(set(diabetes_data['1999–2000'].keys()).union(diabetes_data['2017–2020'].keys()))\n",
        "\n",
        "# Prepare dataframes\n",
        "df_diabetes = pd.DataFrame({\n",
        "    '1999–2000': [diabetes_data['1999–2000'].get(g, 0) for g in all_groups],\n",
        "    '2017–2020': [diabetes_data['2017–2020'].get(g, 0) for g in all_groups]\n",
        "}, index=all_groups)\n",
        "\n",
        "df_prediabetes = pd.DataFrame({\n",
        "    '1999–2000': [prediabetes_data['1999–2000'].get(g, 0) for g in all_groups],\n",
        "    '2017–2020': [prediabetes_data['2017–2020'].get(g, 0) for g in all_groups]\n",
        "}, index=all_groups)\n",
        "\n",
        "# Bar chart: Diabetes\n",
        "x = np.arange(len(all_groups))\n",
        "width = 0.35\n",
        "\n",
        "fig, ax = plt.subplots(figsize=(10, 6))\n",
        "bars1 = ax.bar(x - width/2, df_diabetes['1999–2000'], width, label='1999–2000')\n",
        "bars2 = ax.bar(x + width/2, df_diabetes['2017–2020'], width, label='2017–2020')\n",
        "\n",
        "ax.set_ylabel('Diabetes Prevalence (%)')\n",
        "ax.set_title('Diabetes Prevalence by Race/Ethnicity (NHANES)')\n",
        "ax.set_xticks(x)\n",
        "ax.set_xticklabels(all_groups, rotation=15)\n",
        "ax.legend()\n",
        "plt.ylim(0, max(df_diabetes.max()) + 5)\n",
        "plt.grid(axis='y', linestyle='--', alpha=0.5)\n",
        "\n",
        "for bar in bars1 + bars2:\n",
        "    yval = bar.get_height()\n",
        "    ax.text(bar.get_x() + bar.get_width()/2.0, yval + 0.5, f'{yval:.1f}%', ha='center', va='bottom', fontsize=8)\n",
        "\n",
        "plt.tight_layout()\n",
        "plt.show()\n",
        "\n",
        "# Bar chart: Prediabetes\n",
        "fig, ax = plt.subplots(figsize=(10, 6))\n",
        "bars1 = ax.bar(x - width/2, df_prediabetes['1999–2000'], width, label='1999–2000')\n",
        "bars2 = ax.bar(x + width/2, df_prediabetes['2017–2020'], width, label='2017–2020')\n",
        "\n",
        "ax.set_ylabel('Prediabetes Prevalence (%)')\n",
        "ax.set_title('Prediabetes Prevalence by Race/Ethnicity (NHANES)')\n",
        "ax.set_xticks(x)\n",
        "ax.set_xticklabels(all_groups, rotation=15)\n",
        "ax.legend()\n",
        "plt.ylim(0, max(df_prediabetes.max()) + 5)\n",
        "plt.grid(axis='y', linestyle='--', alpha=0.5)\n",
        "\n",
        "for bar in bars1 + bars2:\n",
        "    yval = bar.get_height()\n",
        "    ax.text(bar.get_x() + bar.get_width()/2.0, yval + 0.5, f'{yval:.1f}%', ha='center', va='bottom', fontsize=8)\n",
        "\n",
        "plt.tight_layout()\n",
        "plt.show()"
      ],
      "metadata": {
        "colab": {
          "base_uri": "https://localhost:8080/",
          "height": 1000
        },
        "id": "Mx_IhymKotBn",
        "outputId": "caeab993-90c7-439b-8152-fe46db62771c"
      },
      "execution_count": null,
      "outputs": [
        {
          "output_type": "display_data",
          "data": {
            "text/plain": [
              "<Figure size 1000x600 with 1 Axes>"
            ],
            "image/png": "[encoded data removed]"
          },
          "metadata": {}
        },
        {
          "output_type": "display_data",
          "data": {
            "text/plain": [
              "<Figure size 1000x600 with 1 Axes>"
            ],
            "image/png": "[encoded data removed]"
          },
          "metadata": {}
        }
      ]
    },
    {
      "cell_type": "markdown",
      "source": [
        "Age\n",
        "\n",
        "According to NHANES data 1999-2000, prevalence of diabetes was highest among older age groups. During this period, 19.3% of adults aged ≥60 were diagnosed with diabetes, followed by 9.2% of middle aged adults and lastly 2.2% younger aged groups. Prediabetes also followed the same trend, with 14.6% of adults aged ≥60 having diabetes, followed by 6.4% of middle aged adults and lastly 1.6% of younger aged groups.\n",
        "\n",
        "\n",
        "\n",
        "This trend is further supported by NHANES data 2017-2020, where prevalence of diabetes was highest among older age groups. During this period, 29.2% of older adults were diagnosed with diabetes, followed by 18.9% of middle aged adults and lastly 4.8% of younger aged groups. Similarly for prediabetes, 48.8% of older adults had prediabetes, followed by 44. 8% of middle aged adults and lastly 27.8% of younger aged groups.\n",
        "\n",
        "\n",
        "The consistently higher prevalence of both diabetes and prediabetes in older aged groups emphasises the need for targeted public health interventions.\n"
      ],
      "metadata": {
        "id": "3Mkkeb_jInai"
      }
    },
    {
      "cell_type": "code",
      "source": [
        "import pandas as pd\n",
        "\n",
        "# Define the data\n",
        "data = {\n",
        "    'Age Group': ['Older', 'Middle', 'Younger'],\n",
        "    'Diabetes Prevalence (%)': [19.3, 9.2, 2.2],\n",
        "    'Prediabetes Prevalence (%)': [14.6, 6.4, 1.6]\n",
        "}\n",
        "\n",
        "# Create the DataFrame\n",
        "df = pd.DataFrame(data)\n",
        "\n",
        "# Add a title and source (if printing/outputting in markdown format)\n",
        "title = \"Prevalence of Diabetes and Prediabetes by Age\\nSource: NHANES 1999–2000\"\n",
        "\n",
        "# Print title and table\n",
        "print(title)\n",
        "print(df)"
      ],
      "metadata": {
        "colab": {
          "base_uri": "https://localhost:8080/"
        },
        "id": "fwha_rwwIxb7",
        "outputId": "1f272b73-94a8-4873-db05-7dfa2bf96c65"
      },
      "execution_count": null,
      "outputs": [
        {
          "output_type": "stream",
          "name": "stdout",
          "text": [
            "Prevalence of Diabetes and Prediabetes by Age\n",
            "Source: NHANES 1999–2000\n",
            "  Age Group  Diabetes Prevalence (%)  Prediabetes Prevalence (%)\n",
            "0     Older                     19.3                        14.6\n",
            "1    Middle                      9.2                         6.4\n",
            "2   Younger                      2.2                         1.6\n"
          ]
        }
      ]
    },
    {
      "cell_type": "code",
      "source": [
        "import pandas as pd\n",
        "\n",
        "# Define the data\n",
        "data = {\n",
        "    'Age Group': ['Older', 'Middle', 'Younger'],\n",
        "    'Diabetes Prevalence (%)': [29.2, 18.9, 4.8],\n",
        "    'Prediabetes Prevalence (%)': [48.8, 44.8, 27.8]\n",
        "}\n",
        "\n",
        "# Create the DataFrame\n",
        "df = pd.DataFrame(data)\n",
        "\n",
        "# Add a title and source\n",
        "title = \"Prevalence of Diabetes and Prediabetes by Age\\nSource: NHANES 2017–2020\"\n",
        "\n",
        "# Print title and table\n",
        "print(title)\n",
        "print(df)"
      ],
      "metadata": {
        "colab": {
          "base_uri": "https://localhost:8080/"
        },
        "id": "7f1mAoc8I-N1",
        "outputId": "668176b9-ce9d-4488-bfc2-e43f55a31aac"
      },
      "execution_count": null,
      "outputs": [
        {
          "output_type": "stream",
          "name": "stdout",
          "text": [
            "Prevalence of Diabetes and Prediabetes by Age\n",
            "Source: NHANES 2017–2020\n",
            "  Age Group  Diabetes Prevalence (%)  Prediabetes Prevalence (%)\n",
            "0     Older                     29.2                        48.8\n",
            "1    Middle                     18.9                        44.8\n",
            "2   Younger                      4.8                        27.8\n"
          ]
        }
      ]
    },
    {
      "cell_type": "code",
      "source": [
        "import pandas as pd\n",
        "import matplotlib.pyplot as plt\n",
        "\n",
        "# Data\n",
        "age_groups = ['Older', 'Middle', 'Younger']\n",
        "\n",
        "# Diabetes prevalence (%)\n",
        "diabetes_1999 = [19.3, 9.2, 2.2]\n",
        "diabetes_2017 = [29.2, 18.9, 4.8]\n",
        "\n",
        "# Prediabetes prevalence (%)\n",
        "prediabetes_1999 = [14.6, 6.4, 1.6]\n",
        "prediabetes_2017 = [48.8, 44.8, 27.8]\n",
        "\n",
        "x = range(len(age_groups))\n",
        "bar_width = 0.35\n",
        "\n",
        "# --- Bar Chart for Diabetes Prevalence ---\n",
        "plt.figure(figsize=(8, 6))\n",
        "plt.bar([p - bar_width/2 for p in x], diabetes_1999, bar_width, label='1999–2000', color='#4C72B0')\n",
        "plt.bar([p + bar_width/2 for p in x], diabetes_2017, bar_width, label='2017–2020', color='#55A868')\n",
        "plt.xticks(x, age_groups)\n",
        "plt.ylabel('Prevalence (%)')\n",
        "plt.title('Diabetes Prevalence by Age Group\\nNHANES 1999–2000 vs 2017–2020')\n",
        "plt.ylim(0, max(diabetes_2017) + 10)\n",
        "plt.legend()\n",
        "plt.tight_layout()\n",
        "plt.show()\n",
        "\n",
        "# --- Bar Chart for Prediabetes Prevalence ---\n",
        "plt.figure(figsize=(8, 6))\n",
        "plt.bar([p - bar_width/2 for p in x], prediabetes_1999, bar_width, label='1999–2000', color='#C44E52')\n",
        "plt.bar([p + bar_width/2 for p in x], prediabetes_2017, bar_width, label='2017–2020', color='#8172B3')\n",
        "plt.xticks(x, age_groups)\n",
        "plt.ylabel('Prevalence (%)')\n",
        "plt.title('Prediabetes Prevalence by Age Group\\nNHANES 1999–2000 vs 2017–2020')\n",
        "plt.ylim(0, max(prediabetes_2017) + 10)\n",
        "plt.legend()\n",
        "plt.tight_layout()\n",
        "plt.show()"
      ],
      "metadata": {
        "colab": {
          "base_uri": "https://localhost:8080/",
          "height": 1000
        },
        "id": "DzumZLLHKHvH",
        "outputId": "1882d492-b5e5-49b7-fc6e-24dd1b96a82f"
      },
      "execution_count": null,
      "outputs": [
        {
          "output_type": "display_data",
          "data": {
            "text/plain": [
              "<Figure size 800x600 with 1 Axes>"
            ],
            "image/png": "[encoded data removed]"
          },
          "metadata": {}
        },
        {
          "output_type": "display_data",
          "data": {
            "text/plain": [
              "<Figure size 800x600 with 1 Axes>"
            ],
            "image/png": "[encoded data removed]"
          },
          "metadata": {}
        }
      ]
    },
    {
      "cell_type": "markdown",
      "source": [
        "\n",
        "The above analysis utilised 3 sets of NHANES data.\n",
        "\n",
        "NHANES\n",
        "\n",
        "\n",
        "The National Health and Nutrition Examination Survey (NHANES) is a nationwide health survey conducted by the CDC’s National Center for Health Statistics (NCHS). It combines interviews with physical examinations and laboratory tests carried out in Mobile Examination Centers (MEC). This allows NHANES to identify both diagnosed and undiagnosed health conditions through objective biomarker measurements, assessing the health and nutritional status of adults and children in the United States\n",
        "\n",
        "In chronological order:\n",
        "\n",
        "MM5235.pmd\n",
        "\n",
        "This report is based on data from NHANES 1999-2000. This analysis includes 4,482 U.S. adults aged 20 years and above who attended the Mobile Examination Center (MEC) and had available Fasting Plasma Glucose measurements (FPG). Diabetes was determined using both self-reported data from interview, as well as FPG levels from lab testing, with only the LBXGLU variable used. Age-adjusted prevalence estimates were used to allow comparisons across the various demographic groups.\n",
        "\n",
        "Frontiers | Prediabetes prevalence and awareness by race, ethnicity, and educational attainment among U.S. adults\n",
        "\n",
        "This report is based on data from NHANES 2011-March 2020. The analysis concentrated on 10,262 U.S. adults aged 20 years and above who identified as non-Hispanic white, non-Hispanic black, non-hispanic asian, or Hispanic, and attended the MEC. Prediabetes was recognised using 2 biomarkers- LBXGLU and LBXGH. Individuals who met these biomarker thresholds for prediabetes were further classified as ‘aware’ or ‘unaware’ based on their self-reported knowledge of having prediabetes. Prediabetes awareness was determined by whether participants responded yes to a survey question about being told they have prediabetes.\n",
        "\n",
        "National Diabetes Statistics Report | Diabetes | CDC\n",
        "\n",
        "This report is based on data from NHANES 2017-March 2020, including population estimates from the U.S. Census Bureau. According to the CDC, around 38.1 million U.S. adults aged 18 years and above had diabetes, either diagnosed or undiagnosed. These estimates are weighted to reflect the whole U.S. population rather than just the NHANES sample. Diagnosed diabetes was determined through self-reports, while undiagnosed diabetes was identified using laboratory biomarkers among individuals who did not report having diabetes. To approximate the national burden of diabetes, age-adjusted prevalence rates from NHANES were applied to 2021 U.S. Census population estimates.\n",
        "\n",
        "\n",
        "\n",
        "\n",
        "\n",
        "\n",
        "\n"
      ],
      "metadata": {
        "id": "Mwxc7eOnucEY"
      }
    },
    {
      "cell_type": "markdown",
      "source": [
        "# Second objective"
      ],
      "metadata": {
        "id": "iyedEu8hhizx"
      }
    },
    {
      "cell_type": "markdown",
      "source": [
        "What proportion of individuals identified as prediabetic/diabetes by HbA1c are missed by fasting glucose criteria, and vice versa, using the data from 2007 to 2023?"
      ],
      "metadata": {
        "id": "YdOBhi3xhoS_"
      }
    },
    {
      "cell_type": "markdown",
      "source": [
        "### Introduction"
      ],
      "metadata": {
        "id": "4zTusqTAiLIa"
      }
    },
    {
      "cell_type": "markdown",
      "source": [
        "Currently, there are several ways to diagnose prediabetic or diabetic, two of which are HbA1c and fasting plasma glucose. The HbA1c test measures blood glucose levels over the last two to three months. While fasting plasma glucose tests are usually performed in the morning before eating anything. Most of the time, both tests are not taken together, which sometimes results in misdiagnosis. For example, someone might have a normal fasting plasma glucose level but a high HbA1c level, which would be undetected if fasting plasma glucose (FPG) alone were used.\n",
        "\n",
        "By doing this research:\n",
        "It builds upon the current research that has been conducted. Many studies have already shown that HbA1c and fasting glucose do not always identify the same individuals with diabetes. Most research looks at HbA1c alone or fasting glucose alone. This research aims to determine the proportion of individuals who are misdiagnosed solely because of only a single test is being used.\n"
      ],
      "metadata": {
        "id": "0LayBfTKiObQ"
      }
    },
    {
      "cell_type": "markdown",
      "source": [
        "### Variables and data source"
      ],
      "metadata": {
        "id": "GVp73ikSiX5a"
      }
    },
    {
      "cell_type": "markdown",
      "source": [
        "Variable name: HbA1c, Fasting Glucose\n",
        "\n",
        "Codes: LBXGH, LBXGLU\n",
        "\n",
        "Units: %(LBXGH), mg/dL (LBXGLU)\n",
        "\n",
        "NHANES datasets: GHB, GLU (2007-2023)\n",
        "\n",
        "Descriptions: Glycohemoglobin (%), Fasting Plasma Glucose (mg/dL)\n",
        "\n",
        "Clinical significance: Used to diagnose diabetes or prediabetes\n",
        "\n",
        "Total number of participants: 27132\n",
        "\n",
        "Inclusion criteria: Everyone\n"
      ],
      "metadata": {
        "id": "KiwKIsR1ibua"
      }
    },
    {
      "cell_type": "code",
      "source": [
        "from google.colab import files\n",
        "\n",
        "uploaded = files.upload()"
      ],
      "metadata": {
        "colab": {
          "base_uri": "https://localhost:8080/",
          "height": 74
        },
        "id": "VILdlPPIi4h3",
        "outputId": "88932858-6da9-4945-f2cb-ead238a6338f"
      },
      "execution_count": null,
      "outputs": [
        {
          "output_type": "display_data",
          "data": {
            "text/plain": [
              "<IPython.core.display.HTML object>"
            ],
            "text/html": [
              "\n",
              "     <input type=\"file\" id=\"files-d7cfaa08-cb29-418d-8786-49941341427b\" name=\"files[]\" multiple disabled\n",
              "        style=\"border:none\" />\n",
              "     <output id=\"result-d7cfaa08-cb29-418d-8786-49941341427b\">\n",
              "      Upload widget is only available when the cell has been executed in the\n",
              "      current browser session. Please rerun this cell to enable.\n",
              "      </output>\n",
              "      <script>// Copyright 2017 Google LLC\n",
              "//\n",
              "// Licensed under the Apache License, Version 2.0 (the \"License\");\n",
              "// you may not use this file except in compliance with the License.\n",
              "// You may obtain a copy of the License at\n",
              "//\n",
              "//      http://www.apache.org/licenses/LICENSE-2.0\n",
              "//\n",
              "// Unless required by applicable law or agreed to in writing, software\n",
              "// distributed under the License is distributed on an \"AS IS\" BASIS,\n",
              "// WITHOUT WARRANTIES OR CONDITIONS OF ANY KIND, either express or implied.\n",
              "// See the License for the specific language governing permissions and\n",
              "// limitations under the License.\n",
              "\n",
              "/**\n",
              " * @fileoverview Helpers for google.colab Python module.\n",
              " */\n",
              "(function(scope) {\n",
              "function span(text, styleAttributes = {}) {\n",
              "  const element = document.createElement('span');\n",
              "  element.textContent = text;\n",
              "  for (const key of Object.keys(styleAttributes)) {\n",
              "    element.style[key] = styleAttributes[key];\n",
              "  }\n",
              "  return element;\n",
              "}\n",
              "\n",
              "// Max number of bytes which will be uploaded at a time.\n",
              "const MAX_PAYLOAD_SIZE = 100 * 1024;\n",
              "\n",
              "function _uploadFiles(inputId, outputId) {\n",
              "  const steps = uploadFilesStep(inputId, outputId);\n",
              "  const outputElement = document.getElementById(outputId);\n",
              "  // Cache steps on the outputElement to make it available for the next call\n",
              "  // to uploadFilesContinue from Python.\n",
              "  outputElement.steps = steps;\n",
              "\n",
              "  return _uploadFilesContinue(outputId);\n",
              "}\n",
              "\n",
              "// This is roughly an async generator (not supported in the browser yet),\n",
              "// where there are multiple asynchronous steps and the Python side is going\n",
              "// to poll for completion of each step.\n",
              "// This uses a Promise to block the python side on completion of each step,\n",
              "// then passes the result of the previous step as the input to the next step.\n",
              "function _uploadFilesContinue(outputId) {\n",
              "  const outputElement = document.getElementById(outputId);\n",
              "  const steps = outputElement.steps;\n",
              "\n",
              "  const next = steps.next(outputElement.lastPromiseValue);\n",
              "  return Promise.resolve(next.value.promise).then((value) => {\n",
              "    // Cache the last promise value to make it available to the next\n",
              "    // step of the generator.\n",
              "    outputElement.lastPromiseValue = value;\n",
              "    return next.value.response;\n",
              "  });\n",
              "}\n",
              "\n",
              "/**\n",
              " * Generator function which is called between each async step of the upload\n",
              " * process.\n",
              " * @param {string} inputId Element ID of the input file picker element.\n",
              " * @param {string} outputId Element ID of the output display.\n",
              " * @return {!Iterable<!Object>} Iterable of next steps.\n",
              " */\n",
              "function* uploadFilesStep(inputId, outputId) {\n",
              "  const inputElement = document.getElementById(inputId);\n",
              "  inputElement.disabled = false;\n",
              "\n",
              "  const outputElement = document.getElementById(outputId);\n",
              "  outputElement.innerHTML = '';\n",
              "\n",
              "  const pickedPromise = new Promise((resolve) => {\n",
              "    inputElement.addEventListener('change', (e) => {\n",
              "      resolve(e.target.files);\n",
              "    });\n",
              "  });\n",
              "\n",
              "  const cancel = document.createElement('button');\n",
              "  inputElement.parentElement.appendChild(cancel);\n",
              "  cancel.textContent = 'Cancel upload';\n",
              "  const cancelPromise = new Promise((resolve) => {\n",
              "    cancel.onclick = () => {\n",
              "      resolve(null);\n",
              "    };\n",
              "  });\n",
              "\n",
              "  // Wait for the user to pick the files.\n",
              "  const files = yield {\n",
              "    promise: Promise.race([pickedPromise, cancelPromise]),\n",
              "    response: {\n",
              "      action: 'starting',\n",
              "    }\n",
              "  };\n",
              "\n",
              "  cancel.remove();\n",
              "\n",
              "  // Disable the input element since further picks are not allowed.\n",
              "  inputElement.disabled = true;\n",
              "\n",
              "  if (!files) {\n",
              "    return {\n",
              "      response: {\n",
              "        action: 'complete',\n",
              "      }\n",
              "    };\n",
              "  }\n",
              "\n",
              "  for (const file of files) {\n",
              "    const li = document.createElement('li');\n",
              "    li.append(span(file.name, {fontWeight: 'bold'}));\n",
              "    li.append(span(\n",
              "        `(${file.type || 'n/a'}) - ${file.size} bytes, ` +\n",
              "        `last modified: ${\n",
              "            file.lastModifiedDate ? file.lastModifiedDate.toLocaleDateString() :\n",
              "                                    'n/a'} - `));\n",
              "    const percent = span('0% done');\n",
              "    li.appendChild(percent);\n",
              "\n",
              "    outputElement.appendChild(li);\n",
              "\n",
              "    const fileDataPromise = new Promise((resolve) => {\n",
              "      const reader = new FileReader();\n",
              "      reader.onload = (e) => {\n",
              "        resolve(e.target.result);\n",
              "      };\n",
              "      reader.readAsArrayBuffer(file);\n",
              "    });\n",
              "    // Wait for the data to be ready.\n",
              "    let fileData = yield {\n",
              "      promise: fileDataPromise,\n",
              "      response: {\n",
              "        action: 'continue',\n",
              "      }\n",
              "    };\n",
              "\n",
              "    // Use a chunked sending to avoid message size limits. See b/62115660.\n",
              "    let position = 0;\n",
              "    do {\n",
              "      const length = Math.min(fileData.byteLength - position, MAX_PAYLOAD_SIZE);\n",
              "      const chunk = new Uint8Array(fileData, position, length);\n",
              "      position += length;\n",
              "\n",
              "      const base64 = btoa(String.fromCharCode.apply(null, chunk));\n",
              "      yield {\n",
              "        response: {\n",
              "          action: 'append',\n",
              "          file: file.name,\n",
              "          data: base64,\n",
              "        },\n",
              "      };\n",
              "\n",
              "      let percentDone = fileData.byteLength === 0 ?\n",
              "          100 :\n",
              "          Math.round((position / fileData.byteLength) * 100);\n",
              "      percent.textContent = `${percentDone}% done`;\n",
              "\n",
              "    } while (position < fileData.byteLength);\n",
              "  }\n",
              "\n",
              "  // All done.\n",
              "  yield {\n",
              "    response: {\n",
              "      action: 'complete',\n",
              "    }\n",
              "  };\n",
              "}\n",
              "\n",
              "scope.google = scope.google || {};\n",
              "scope.google.colab = scope.google.colab || {};\n",
              "scope.google.colab._files = {\n",
              "  _uploadFiles,\n",
              "  _uploadFilesContinue,\n",
              "};\n",
              "})(self);\n",
              "</script> "
            ]
          },
          "metadata": {}
        },
        {
          "output_type": "stream",
          "name": "stdout",
          "text": [
            "Saving P_GLU.xpt to P_GLU.xpt\n"
          ]
        }
      ]
    },
    {
      "cell_type": "code",
      "source": [
        "from google.colab import files\n",
        "\n",
        "uploaded = files.upload()"
      ],
      "metadata": {
        "colab": {
          "base_uri": "https://localhost:8080/",
          "height": 285
        },
        "id": "arjuPf0FjHea",
        "outputId": "163aa227-bb38-4d45-f61d-a8218d7a12ef"
      },
      "execution_count": null,
      "outputs": [
        {
          "output_type": "display_data",
          "data": {
            "text/plain": [
              "<IPython.core.display.HTML object>"
            ],
            "text/html": [
              "\n",
              "     <input type=\"file\" id=\"files-a97c0b6a-8299-45f7-8421-762dcccce82f\" name=\"files[]\" multiple disabled\n",
              "        style=\"border:none\" />\n",
              "     <output id=\"result-a97c0b6a-8299-45f7-8421-762dcccce82f\">\n",
              "      Upload widget is only available when the cell has been executed in the\n",
              "      current browser session. Please rerun this cell to enable.\n",
              "      </output>\n",
              "      <script>// Copyright 2017 Google LLC\n",
              "//\n",
              "// Licensed under the Apache License, Version 2.0 (the \"License\");\n",
              "// you may not use this file except in compliance with the License.\n",
              "// You may obtain a copy of the License at\n",
              "//\n",
              "//      http://www.apache.org/licenses/LICENSE-2.0\n",
              "//\n",
              "// Unless required by applicable law or agreed to in writing, software\n",
              "// distributed under the License is distributed on an \"AS IS\" BASIS,\n",
              "// WITHOUT WARRANTIES OR CONDITIONS OF ANY KIND, either express or implied.\n",
              "// See the License for the specific language governing permissions and\n",
              "// limitations under the License.\n",
              "\n",
              "/**\n",
              " * @fileoverview Helpers for google.colab Python module.\n",
              " */\n",
              "(function(scope) {\n",
              "function span(text, styleAttributes = {}) {\n",
              "  const element = document.createElement('span');\n",
              "  element.textContent = text;\n",
              "  for (const key of Object.keys(styleAttributes)) {\n",
              "    element.style[key] = styleAttributes[key];\n",
              "  }\n",
              "  return element;\n",
              "}\n",
              "\n",
              "// Max number of bytes which will be uploaded at a time.\n",
              "const MAX_PAYLOAD_SIZE = 100 * 1024;\n",
              "\n",
              "function _uploadFiles(inputId, outputId) {\n",
              "  const steps = uploadFilesStep(inputId, outputId);\n",
              "  const outputElement = document.getElementById(outputId);\n",
              "  // Cache steps on the outputElement to make it available for the next call\n",
              "  // to uploadFilesContinue from Python.\n",
              "  outputElement.steps = steps;\n",
              "\n",
              "  return _uploadFilesContinue(outputId);\n",
              "}\n",
              "\n",
              "// This is roughly an async generator (not supported in the browser yet),\n",
              "// where there are multiple asynchronous steps and the Python side is going\n",
              "// to poll for completion of each step.\n",
              "// This uses a Promise to block the python side on completion of each step,\n",
              "// then passes the result of the previous step as the input to the next step.\n",
              "function _uploadFilesContinue(outputId) {\n",
              "  const outputElement = document.getElementById(outputId);\n",
              "  const steps = outputElement.steps;\n",
              "\n",
              "  const next = steps.next(outputElement.lastPromiseValue);\n",
              "  return Promise.resolve(next.value.promise).then((value) => {\n",
              "    // Cache the last promise value to make it available to the next\n",
              "    // step of the generator.\n",
              "    outputElement.lastPromiseValue = value;\n",
              "    return next.value.response;\n",
              "  });\n",
              "}\n",
              "\n",
              "/**\n",
              " * Generator function which is called between each async step of the upload\n",
              " * process.\n",
              " * @param {string} inputId Element ID of the input file picker element.\n",
              " * @param {string} outputId Element ID of the output display.\n",
              " * @return {!Iterable<!Object>} Iterable of next steps.\n",
              " */\n",
              "function* uploadFilesStep(inputId, outputId) {\n",
              "  const inputElement = document.getElementById(inputId);\n",
              "  inputElement.disabled = false;\n",
              "\n",
              "  const outputElement = document.getElementById(outputId);\n",
              "  outputElement.innerHTML = '';\n",
              "\n",
              "  const pickedPromise = new Promise((resolve) => {\n",
              "    inputElement.addEventListener('change', (e) => {\n",
              "      resolve(e.target.files);\n",
              "    });\n",
              "  });\n",
              "\n",
              "  const cancel = document.createElement('button');\n",
              "  inputElement.parentElement.appendChild(cancel);\n",
              "  cancel.textContent = 'Cancel upload';\n",
              "  const cancelPromise = new Promise((resolve) => {\n",
              "    cancel.onclick = () => {\n",
              "      resolve(null);\n",
              "    };\n",
              "  });\n",
              "\n",
              "  // Wait for the user to pick the files.\n",
              "  const files = yield {\n",
              "    promise: Promise.race([pickedPromise, cancelPromise]),\n",
              "    response: {\n",
              "      action: 'starting',\n",
              "    }\n",
              "  };\n",
              "\n",
              "  cancel.remove();\n",
              "\n",
              "  // Disable the input element since further picks are not allowed.\n",
              "  inputElement.disabled = true;\n",
              "\n",
              "  if (!files) {\n",
              "    return {\n",
              "      response: {\n",
              "        action: 'complete',\n",
              "      }\n",
              "    };\n",
              "  }\n",
              "\n",
              "  for (const file of files) {\n",
              "    const li = document.createElement('li');\n",
              "    li.append(span(file.name, {fontWeight: 'bold'}));\n",
              "    li.append(span(\n",
              "        `(${file.type || 'n/a'}) - ${file.size} bytes, ` +\n",
              "        `last modified: ${\n",
              "            file.lastModifiedDate ? file.lastModifiedDate.toLocaleDateString() :\n",
              "                                    'n/a'} - `));\n",
              "    const percent = span('0% done');\n",
              "    li.appendChild(percent);\n",
              "\n",
              "    outputElement.appendChild(li);\n",
              "\n",
              "    const fileDataPromise = new Promise((resolve) => {\n",
              "      const reader = new FileReader();\n",
              "      reader.onload = (e) => {\n",
              "        resolve(e.target.result);\n",
              "      };\n",
              "      reader.readAsArrayBuffer(file);\n",
              "    });\n",
              "    // Wait for the data to be ready.\n",
              "    let fileData = yield {\n",
              "      promise: fileDataPromise,\n",
              "      response: {\n",
              "        action: 'continue',\n",
              "      }\n",
              "    };\n",
              "\n",
              "    // Use a chunked sending to avoid message size limits. See b/62115660.\n",
              "    let position = 0;\n",
              "    do {\n",
              "      const length = Math.min(fileData.byteLength - position, MAX_PAYLOAD_SIZE);\n",
              "      const chunk = new Uint8Array(fileData, position, length);\n",
              "      position += length;\n",
              "\n",
              "      const base64 = btoa(String.fromCharCode.apply(null, chunk));\n",
              "      yield {\n",
              "        response: {\n",
              "          action: 'append',\n",
              "          file: file.name,\n",
              "          data: base64,\n",
              "        },\n",
              "      };\n",
              "\n",
              "      let percentDone = fileData.byteLength === 0 ?\n",
              "          100 :\n",
              "          Math.round((position / fileData.byteLength) * 100);\n",
              "      percent.textContent = `${percentDone}% done`;\n",
              "\n",
              "    } while (position < fileData.byteLength);\n",
              "  }\n",
              "\n",
              "  // All done.\n",
              "  yield {\n",
              "    response: {\n",
              "      action: 'complete',\n",
              "    }\n",
              "  };\n",
              "}\n",
              "\n",
              "scope.google = scope.google || {};\n",
              "scope.google.colab = scope.google.colab || {};\n",
              "scope.google.colab._files = {\n",
              "  _uploadFiles,\n",
              "  _uploadFilesContinue,\n",
              "};\n",
              "})(self);\n",
              "</script> "
            ]
          },
          "metadata": {}
        },
        {
          "output_type": "stream",
          "name": "stdout",
          "text": [
            "Saving GLU_E.xpt to GLU_E.xpt\n",
            "Saving GLU_F.xpt to GLU_F.xpt\n",
            "Saving GLU_G.xpt to GLU_G.xpt\n",
            "Saving GLU_H.xpt to GLU_H.xpt\n",
            "Saving GLU_I.xpt to GLU_I.xpt\n",
            "Saving GLU_J.xpt to GLU_J.xpt\n",
            "Saving GLU_L.xpt to GLU_L.xpt\n"
          ]
        }
      ]
    },
    {
      "cell_type": "code",
      "source": [
        "import pandas as pd\n",
        "\n",
        "# Load all HbA1c files\n",
        "FPG_2007 = pd.read_sas('/content/GLU_E.xpt')\n",
        "FPG_2009 = pd.read_sas('/content/GLU_F.xpt')\n",
        "FPG_2011 = pd.read_sas('/content/GLU_G.xpt')\n",
        "FPG_2013 = pd.read_sas('/content/GLU_H.xpt')\n",
        "FPG_2015 = pd.read_sas('/content/GLU_I.xpt')\n",
        "FPG_2017 = pd.read_sas('/content/GLU_J.xpt')\n",
        "FPG_2019 = pd.read_sas('/content/P_GLU.xpt')\n",
        "FPG_2021 = pd.read_sas('/content/GLU_L.xpt')"
      ],
      "metadata": {
        "id": "jKetbqsdjRcK"
      },
      "execution_count": null,
      "outputs": []
    },
    {
      "cell_type": "code",
      "source": [
        "FPG_2007['cycle'] = \"2007-2008\"\n",
        "FPG_2009['cycle'] = \"2009-2010\"\n",
        "FPG_2011['cycle'] = \"2011-2012\"\n",
        "FPG_2013['cycle'] = \"2013-2014\"\n",
        "FPG_2015[\"cycle\"] = \"2015-2016\"\n",
        "FPG_2017[\"cycle\"] = \"2017-2018\"\n",
        "FPG_2019[\"cycle\"] = \"2017-2020\"\n",
        "FPG_2021[\"cycle\"] = \"2021-2022\""
      ],
      "metadata": {
        "id": "rxzOOaiNjXYx"
      },
      "execution_count": null,
      "outputs": []
    },
    {
      "cell_type": "code",
      "source": [
        "FPG_combined = pd.concat([FPG_2007, FPG_2009, FPG_2011, FPG_2013, FPG_2015, FPG_2017, FPG_2019, FPG_2021], axis=0)\n",
        "FPG_combined.reset_index(drop=True, inplace=True)"
      ],
      "metadata": {
        "id": "jMAmD9mDjcSn"
      },
      "execution_count": null,
      "outputs": []
    },
    {
      "cell_type": "code",
      "source": [
        "from google.colab import files\n",
        "\n",
        "uploaded = files.upload()"
      ],
      "metadata": {
        "colab": {
          "base_uri": "https://localhost:8080/",
          "height": 285
        },
        "id": "p-aal3L9jdhe",
        "outputId": "a4f7166a-53c0-406d-f287-625f5a3cb862"
      },
      "execution_count": null,
      "outputs": [
        {
          "output_type": "display_data",
          "data": {
            "text/plain": [
              "<IPython.core.display.HTML object>"
            ],
            "text/html": [
              "\n",
              "     <input type=\"file\" id=\"files-67b6dd52-54d7-4095-b141-2931f60d7f67\" name=\"files[]\" multiple disabled\n",
              "        style=\"border:none\" />\n",
              "     <output id=\"result-67b6dd52-54d7-4095-b141-2931f60d7f67\">\n",
              "      Upload widget is only available when the cell has been executed in the\n",
              "      current browser session. Please rerun this cell to enable.\n",
              "      </output>\n",
              "      <script>// Copyright 2017 Google LLC\n",
              "//\n",
              "// Licensed under the Apache License, Version 2.0 (the \"License\");\n",
              "// you may not use this file except in compliance with the License.\n",
              "// You may obtain a copy of the License at\n",
              "//\n",
              "//      http://www.apache.org/licenses/LICENSE-2.0\n",
              "//\n",
              "// Unless required by applicable law or agreed to in writing, software\n",
              "// distributed under the License is distributed on an \"AS IS\" BASIS,\n",
              "// WITHOUT WARRANTIES OR CONDITIONS OF ANY KIND, either express or implied.\n",
              "// See the License for the specific language governing permissions and\n",
              "// limitations under the License.\n",
              "\n",
              "/**\n",
              " * @fileoverview Helpers for google.colab Python module.\n",
              " */\n",
              "(function(scope) {\n",
              "function span(text, styleAttributes = {}) {\n",
              "  const element = document.createElement('span');\n",
              "  element.textContent = text;\n",
              "  for (const key of Object.keys(styleAttributes)) {\n",
              "    element.style[key] = styleAttributes[key];\n",
              "  }\n",
              "  return element;\n",
              "}\n",
              "\n",
              "// Max number of bytes which will be uploaded at a time.\n",
              "const MAX_PAYLOAD_SIZE = 100 * 1024;\n",
              "\n",
              "function _uploadFiles(inputId, outputId) {\n",
              "  const steps = uploadFilesStep(inputId, outputId);\n",
              "  const outputElement = document.getElementById(outputId);\n",
              "  // Cache steps on the outputElement to make it available for the next call\n",
              "  // to uploadFilesContinue from Python.\n",
              "  outputElement.steps = steps;\n",
              "\n",
              "  return _uploadFilesContinue(outputId);\n",
              "}\n",
              "\n",
              "// This is roughly an async generator (not supported in the browser yet),\n",
              "// where there are multiple asynchronous steps and the Python side is going\n",
              "// to poll for completion of each step.\n",
              "// This uses a Promise to block the python side on completion of each step,\n",
              "// then passes the result of the previous step as the input to the next step.\n",
              "function _uploadFilesContinue(outputId) {\n",
              "  const outputElement = document.getElementById(outputId);\n",
              "  const steps = outputElement.steps;\n",
              "\n",
              "  const next = steps.next(outputElement.lastPromiseValue);\n",
              "  return Promise.resolve(next.value.promise).then((value) => {\n",
              "    // Cache the last promise value to make it available to the next\n",
              "    // step of the generator.\n",
              "    outputElement.lastPromiseValue = value;\n",
              "    return next.value.response;\n",
              "  });\n",
              "}\n",
              "\n",
              "/**\n",
              " * Generator function which is called between each async step of the upload\n",
              " * process.\n",
              " * @param {string} inputId Element ID of the input file picker element.\n",
              " * @param {string} outputId Element ID of the output display.\n",
              " * @return {!Iterable<!Object>} Iterable of next steps.\n",
              " */\n",
              "function* uploadFilesStep(inputId, outputId) {\n",
              "  const inputElement = document.getElementById(inputId);\n",
              "  inputElement.disabled = false;\n",
              "\n",
              "  const outputElement = document.getElementById(outputId);\n",
              "  outputElement.innerHTML = '';\n",
              "\n",
              "  const pickedPromise = new Promise((resolve) => {\n",
              "    inputElement.addEventListener('change', (e) => {\n",
              "      resolve(e.target.files);\n",
              "    });\n",
              "  });\n",
              "\n",
              "  const cancel = document.createElement('button');\n",
              "  inputElement.parentElement.appendChild(cancel);\n",
              "  cancel.textContent = 'Cancel upload';\n",
              "  const cancelPromise = new Promise((resolve) => {\n",
              "    cancel.onclick = () => {\n",
              "      resolve(null);\n",
              "    };\n",
              "  });\n",
              "\n",
              "  // Wait for the user to pick the files.\n",
              "  const files = yield {\n",
              "    promise: Promise.race([pickedPromise, cancelPromise]),\n",
              "    response: {\n",
              "      action: 'starting',\n",
              "    }\n",
              "  };\n",
              "\n",
              "  cancel.remove();\n",
              "\n",
              "  // Disable the input element since further picks are not allowed.\n",
              "  inputElement.disabled = true;\n",
              "\n",
              "  if (!files) {\n",
              "    return {\n",
              "      response: {\n",
              "        action: 'complete',\n",
              "      }\n",
              "    };\n",
              "  }\n",
              "\n",
              "  for (const file of files) {\n",
              "    const li = document.createElement('li');\n",
              "    li.append(span(file.name, {fontWeight: 'bold'}));\n",
              "    li.append(span(\n",
              "        `(${file.type || 'n/a'}) - ${file.size} bytes, ` +\n",
              "        `last modified: ${\n",
              "            file.lastModifiedDate ? file.lastModifiedDate.toLocaleDateString() :\n",
              "                                    'n/a'} - `));\n",
              "    const percent = span('0% done');\n",
              "    li.appendChild(percent);\n",
              "\n",
              "    outputElement.appendChild(li);\n",
              "\n",
              "    const fileDataPromise = new Promise((resolve) => {\n",
              "      const reader = new FileReader();\n",
              "      reader.onload = (e) => {\n",
              "        resolve(e.target.result);\n",
              "      };\n",
              "      reader.readAsArrayBuffer(file);\n",
              "    });\n",
              "    // Wait for the data to be ready.\n",
              "    let fileData = yield {\n",
              "      promise: fileDataPromise,\n",
              "      response: {\n",
              "        action: 'continue',\n",
              "      }\n",
              "    };\n",
              "\n",
              "    // Use a chunked sending to avoid message size limits. See b/62115660.\n",
              "    let position = 0;\n",
              "    do {\n",
              "      const length = Math.min(fileData.byteLength - position, MAX_PAYLOAD_SIZE);\n",
              "      const chunk = new Uint8Array(fileData, position, length);\n",
              "      position += length;\n",
              "\n",
              "      const base64 = btoa(String.fromCharCode.apply(null, chunk));\n",
              "      yield {\n",
              "        response: {\n",
              "          action: 'append',\n",
              "          file: file.name,\n",
              "          data: base64,\n",
              "        },\n",
              "      };\n",
              "\n",
              "      let percentDone = fileData.byteLength === 0 ?\n",
              "          100 :\n",
              "          Math.round((position / fileData.byteLength) * 100);\n",
              "      percent.textContent = `${percentDone}% done`;\n",
              "\n",
              "    } while (position < fileData.byteLength);\n",
              "  }\n",
              "\n",
              "  // All done.\n",
              "  yield {\n",
              "    response: {\n",
              "      action: 'complete',\n",
              "    }\n",
              "  };\n",
              "}\n",
              "\n",
              "scope.google = scope.google || {};\n",
              "scope.google.colab = scope.google.colab || {};\n",
              "scope.google.colab._files = {\n",
              "  _uploadFiles,\n",
              "  _uploadFilesContinue,\n",
              "};\n",
              "})(self);\n",
              "</script> "
            ]
          },
          "metadata": {}
        },
        {
          "output_type": "stream",
          "name": "stdout",
          "text": [
            "Saving GHB_E.xpt to GHB_E.xpt\n",
            "Saving GHB_F.xpt to GHB_F.xpt\n",
            "Saving GHB_G.xpt to GHB_G.xpt\n",
            "Saving GHB_H.xpt to GHB_H.xpt\n",
            "Saving GHB_I.xpt to GHB_I.xpt\n",
            "Saving GHB_J.xpt to GHB_J.xpt\n",
            "Saving GHB_L.xpt to GHB_L.xpt\n"
          ]
        }
      ]
    },
    {
      "cell_type": "code",
      "source": [
        "from google.colab import files\n",
        "\n",
        "uploaded = files.upload()"
      ],
      "metadata": {
        "colab": {
          "base_uri": "https://localhost:8080/",
          "height": 74
        },
        "id": "JZjCypT8jow-",
        "outputId": "b65bd2be-4334-4a57-b5ab-293650ed46d5"
      },
      "execution_count": null,
      "outputs": [
        {
          "output_type": "display_data",
          "data": {
            "text/plain": [
              "<IPython.core.display.HTML object>"
            ],
            "text/html": [
              "\n",
              "     <input type=\"file\" id=\"files-396a11c6-4498-494a-9cf4-4f8c0c22235b\" name=\"files[]\" multiple disabled\n",
              "        style=\"border:none\" />\n",
              "     <output id=\"result-396a11c6-4498-494a-9cf4-4f8c0c22235b\">\n",
              "      Upload widget is only available when the cell has been executed in the\n",
              "      current browser session. Please rerun this cell to enable.\n",
              "      </output>\n",
              "      <script>// Copyright 2017 Google LLC\n",
              "//\n",
              "// Licensed under the Apache License, Version 2.0 (the \"License\");\n",
              "// you may not use this file except in compliance with the License.\n",
              "// You may obtain a copy of the License at\n",
              "//\n",
              "//      http://www.apache.org/licenses/LICENSE-2.0\n",
              "//\n",
              "// Unless required by applicable law or agreed to in writing, software\n",
              "// distributed under the License is distributed on an \"AS IS\" BASIS,\n",
              "// WITHOUT WARRANTIES OR CONDITIONS OF ANY KIND, either express or implied.\n",
              "// See the License for the specific language governing permissions and\n",
              "// limitations under the License.\n",
              "\n",
              "/**\n",
              " * @fileoverview Helpers for google.colab Python module.\n",
              " */\n",
              "(function(scope) {\n",
              "function span(text, styleAttributes = {}) {\n",
              "  const element = document.createElement('span');\n",
              "  element.textContent = text;\n",
              "  for (const key of Object.keys(styleAttributes)) {\n",
              "    element.style[key] = styleAttributes[key];\n",
              "  }\n",
              "  return element;\n",
              "}\n",
              "\n",
              "// Max number of bytes which will be uploaded at a time.\n",
              "const MAX_PAYLOAD_SIZE = 100 * 1024;\n",
              "\n",
              "function _uploadFiles(inputId, outputId) {\n",
              "  const steps = uploadFilesStep(inputId, outputId);\n",
              "  const outputElement = document.getElementById(outputId);\n",
              "  // Cache steps on the outputElement to make it available for the next call\n",
              "  // to uploadFilesContinue from Python.\n",
              "  outputElement.steps = steps;\n",
              "\n",
              "  return _uploadFilesContinue(outputId);\n",
              "}\n",
              "\n",
              "// This is roughly an async generator (not supported in the browser yet),\n",
              "// where there are multiple asynchronous steps and the Python side is going\n",
              "// to poll for completion of each step.\n",
              "// This uses a Promise to block the python side on completion of each step,\n",
              "// then passes the result of the previous step as the input to the next step.\n",
              "function _uploadFilesContinue(outputId) {\n",
              "  const outputElement = document.getElementById(outputId);\n",
              "  const steps = outputElement.steps;\n",
              "\n",
              "  const next = steps.next(outputElement.lastPromiseValue);\n",
              "  return Promise.resolve(next.value.promise).then((value) => {\n",
              "    // Cache the last promise value to make it available to the next\n",
              "    // step of the generator.\n",
              "    outputElement.lastPromiseValue = value;\n",
              "    return next.value.response;\n",
              "  });\n",
              "}\n",
              "\n",
              "/**\n",
              " * Generator function which is called between each async step of the upload\n",
              " * process.\n",
              " * @param {string} inputId Element ID of the input file picker element.\n",
              " * @param {string} outputId Element ID of the output display.\n",
              " * @return {!Iterable<!Object>} Iterable of next steps.\n",
              " */\n",
              "function* uploadFilesStep(inputId, outputId) {\n",
              "  const inputElement = document.getElementById(inputId);\n",
              "  inputElement.disabled = false;\n",
              "\n",
              "  const outputElement = document.getElementById(outputId);\n",
              "  outputElement.innerHTML = '';\n",
              "\n",
              "  const pickedPromise = new Promise((resolve) => {\n",
              "    inputElement.addEventListener('change', (e) => {\n",
              "      resolve(e.target.files);\n",
              "    });\n",
              "  });\n",
              "\n",
              "  const cancel = document.createElement('button');\n",
              "  inputElement.parentElement.appendChild(cancel);\n",
              "  cancel.textContent = 'Cancel upload';\n",
              "  const cancelPromise = new Promise((resolve) => {\n",
              "    cancel.onclick = () => {\n",
              "      resolve(null);\n",
              "    };\n",
              "  });\n",
              "\n",
              "  // Wait for the user to pick the files.\n",
              "  const files = yield {\n",
              "    promise: Promise.race([pickedPromise, cancelPromise]),\n",
              "    response: {\n",
              "      action: 'starting',\n",
              "    }\n",
              "  };\n",
              "\n",
              "  cancel.remove();\n",
              "\n",
              "  // Disable the input element since further picks are not allowed.\n",
              "  inputElement.disabled = true;\n",
              "\n",
              "  if (!files) {\n",
              "    return {\n",
              "      response: {\n",
              "        action: 'complete',\n",
              "      }\n",
              "    };\n",
              "  }\n",
              "\n",
              "  for (const file of files) {\n",
              "    const li = document.createElement('li');\n",
              "    li.append(span(file.name, {fontWeight: 'bold'}));\n",
              "    li.append(span(\n",
              "        `(${file.type || 'n/a'}) - ${file.size} bytes, ` +\n",
              "        `last modified: ${\n",
              "            file.lastModifiedDate ? file.lastModifiedDate.toLocaleDateString() :\n",
              "                                    'n/a'} - `));\n",
              "    const percent = span('0% done');\n",
              "    li.appendChild(percent);\n",
              "\n",
              "    outputElement.appendChild(li);\n",
              "\n",
              "    const fileDataPromise = new Promise((resolve) => {\n",
              "      const reader = new FileReader();\n",
              "      reader.onload = (e) => {\n",
              "        resolve(e.target.result);\n",
              "      };\n",
              "      reader.readAsArrayBuffer(file);\n",
              "    });\n",
              "    // Wait for the data to be ready.\n",
              "    let fileData = yield {\n",
              "      promise: fileDataPromise,\n",
              "      response: {\n",
              "        action: 'continue',\n",
              "      }\n",
              "    };\n",
              "\n",
              "    // Use a chunked sending to avoid message size limits. See b/62115660.\n",
              "    let position = 0;\n",
              "    do {\n",
              "      const length = Math.min(fileData.byteLength - position, MAX_PAYLOAD_SIZE);\n",
              "      const chunk = new Uint8Array(fileData, position, length);\n",
              "      position += length;\n",
              "\n",
              "      const base64 = btoa(String.fromCharCode.apply(null, chunk));\n",
              "      yield {\n",
              "        response: {\n",
              "          action: 'append',\n",
              "          file: file.name,\n",
              "          data: base64,\n",
              "        },\n",
              "      };\n",
              "\n",
              "      let percentDone = fileData.byteLength === 0 ?\n",
              "          100 :\n",
              "          Math.round((position / fileData.byteLength) * 100);\n",
              "      percent.textContent = `${percentDone}% done`;\n",
              "\n",
              "    } while (position < fileData.byteLength);\n",
              "  }\n",
              "\n",
              "  // All done.\n",
              "  yield {\n",
              "    response: {\n",
              "      action: 'complete',\n",
              "    }\n",
              "  };\n",
              "}\n",
              "\n",
              "scope.google = scope.google || {};\n",
              "scope.google.colab = scope.google.colab || {};\n",
              "scope.google.colab._files = {\n",
              "  _uploadFiles,\n",
              "  _uploadFilesContinue,\n",
              "};\n",
              "})(self);\n",
              "</script> "
            ]
          },
          "metadata": {}
        },
        {
          "output_type": "stream",
          "name": "stdout",
          "text": [
            "Saving P_GHB.xpt to P_GHB.xpt\n"
          ]
        }
      ]
    },
    {
      "cell_type": "code",
      "source": [
        "HbA1c_2007 = pd.read_sas(\"GHB_E.xpt\")\n",
        "HbA1c_2009 = pd.read_sas(\"GHB_F.xpt\")\n",
        "HbA1c_2011 = pd.read_sas(\"GHB_G.xpt\")\n",
        "HbA1c_2013 = pd.read_sas(\"GHB_H.xpt\")\n",
        "HbA1c_2015 = pd.read_sas(\"GHB_I.xpt\")\n",
        "HbA1c_2017 = pd.read_sas(\"GHB_J.xpt\")\n",
        "HbA1c_2019 = pd.read_sas(\"P_GHB.xpt\")\n",
        "HbA1c_2021 = pd.read_sas(\"GHB_L.xpt\")\n",
        "\n",
        "HbA1c_2007[\"cycle\"] = \"2007-2008\"\n",
        "HbA1c_2009[\"cycle\"] = \"2009-2010\"\n",
        "HbA1c_2011[\"cycle\"] = \"2011-2012\"\n",
        "HbA1c_2013[\"cycle\"] = \"2013-2014\"\n",
        "HbA1c_2015[\"cycle\"] = \"2015-2016\"\n",
        "HbA1c_2017[\"cycle\"] = \"2017-2018\"\n",
        "HbA1c_2019[\"cycle\"] = \"2017-2020\"\n",
        "HbA1c_2021[\"cycle\"] = \"2021-2022\"\n",
        "\n",
        "HbA1c_combined = pd.concat([HbA1c_2007, HbA1c_2009, HbA1c_2011, HbA1c_2013, HbA1c_2015, HbA1c_2017, HbA1c_2019, HbA1c_2021], axis=0)"
      ],
      "metadata": {
        "id": "K7nL3y9Mjvwr"
      },
      "execution_count": null,
      "outputs": []
    },
    {
      "cell_type": "code",
      "source": [
        "merged_all = HbA1c_combined.merge(FPG_combined, on=\"SEQN\", how=\"inner\")"
      ],
      "metadata": {
        "id": "2tp4YB4Cj2MP"
      },
      "execution_count": null,
      "outputs": []
    },
    {
      "cell_type": "code",
      "source": [
        "# Merge HbA1c and FPG by SEQN\n",
        "merged_all = HbA1c_combined.merge(FPG_combined, on=\"SEQN\", how=\"inner\")"
      ],
      "metadata": {
        "id": "WGikidXRkQUX"
      },
      "execution_count": null,
      "outputs": []
    },
    {
      "cell_type": "code",
      "source": [
        "GLU_combined = pd.concat([FPG_2007, FPG_2009, FPG_2011, FPG_2013, FPG_2015, FPG_2017, FPG_2019, FPG_2021], axis=0)\n",
        "GLU_combined.reset_index(drop=True, inplace=True)"
      ],
      "metadata": {
        "id": "_4U-X-UVkhWT"
      },
      "execution_count": null,
      "outputs": []
    },
    {
      "cell_type": "code",
      "source": [
        "merged_all.columns"
      ],
      "metadata": {
        "colab": {
          "base_uri": "https://localhost:8080/"
        },
        "id": "jfNq0Wthkia5",
        "outputId": "6b6251ce-8a87-4dd3-ba16-2744217d3b1d"
      },
      "execution_count": null,
      "outputs": [
        {
          "output_type": "execute_result",
          "data": {
            "text/plain": [
              "Index(['SEQN', 'LBXGH', 'cycle_x', 'WTPH2YR', 'WTSAF2YR', 'LBXGLU', 'LBDGLUSI',\n",
              "       'LBXIN', 'LBDINSI', 'PHAFSTHR', 'PHAFSTMN', 'cycle_y', 'WTSAFPRP'],\n",
              "      dtype='object')"
            ]
          },
          "metadata": {},
          "execution_count": 12
        }
      ]
    },
    {
      "cell_type": "code",
      "source": [
        "# Diabetes by HbA1c (≥6.5%)\n",
        "merged_all['hba1c_diabetes'] = merged_all['LBXGH'] >= 6.5\n",
        "\n",
        "# Prediabetes by HbA1c (5.7%–6.4%)\n",
        "merged_all['hba1c_prediabetes'] = (merged_all['LBXGH'] >= 5.7) & (merged_all['LBXGH'] < 6.5)\n",
        "\n",
        "# Diabetes by FPG (≥126 mg/dL)\n",
        "merged_all['fpg_diabetes'] = merged_all['LBXGLU'] >= 126\n",
        "\n",
        "# Prediabetes by FPG (100–125 mg/dL)\n",
        "merged_all['fpg_prediabetes'] = (merged_all['LBXGLU'] >= 100) & (merged_all['LBXGLU'] < 126)\n",
        "\n",
        "# Diabetes by both HbA1c and FPG\n",
        "merged_all['diabetes_both'] = merged_all['hba1c_diabetes'] & merged_all['fpg_diabetes']\n",
        "\n",
        "# Diabetes by HbA1c only\n",
        "merged_all['diabetes_hba1c_only'] = merged_all['hba1c_diabetes'] & ~merged_all['fpg_diabetes'].fillna(False)\n",
        "\n",
        "# Diabetes by FPG only\n",
        "merged_all['diabetes_fpg_only'] = ~merged_all['hba1c_diabetes'].fillna(False) & merged_all['fpg_diabetes']"
      ],
      "metadata": {
        "id": "Oz1WeqgOknqa"
      },
      "execution_count": null,
      "outputs": []
    },
    {
      "cell_type": "code",
      "source": [
        "total_diabetes = (merged_all['hba1c_diabetes'] | merged_all['fpg_diabetes']).sum()\n",
        "both_count = merged_all['diabetes_both'].sum()\n",
        "hba1c_only = merged_all['diabetes_hba1c_only'].sum()\n",
        "fpg_only = merged_all['diabetes_fpg_only'].sum()\n",
        "\n",
        "print(f\"Both: {both_count/total_diabetes:.2%}\")\n",
        "print(f\"HbA1c only: {hba1c_only/total_diabetes:.2%}\")\n",
        "print(f\"FPG only: {fpg_only/total_diabetes:.2%}\")"
      ],
      "metadata": {
        "colab": {
          "base_uri": "https://localhost:8080/"
        },
        "id": "9JlhSqRHkvvY",
        "outputId": "ce93f958-f6a6-4bcd-82f5-697b602433a3"
      },
      "execution_count": null,
      "outputs": [
        {
          "output_type": "stream",
          "name": "stdout",
          "text": [
            "Both: 58.00%\n",
            "HbA1c only: 17.44%\n",
            "FPG only: 24.56%\n"
          ]
        }
      ]
    },
    {
      "cell_type": "code",
      "source": [
        "# Calculate weighted prevalence for diabetes\n",
        "total_weight = merged_all.loc[merged_all['hba1c_diabetes'] | merged_all['fpg_diabetes'], 'WTSAF2YR'].sum()\n",
        "both_weight = merged_all.loc[merged_all['diabetes_both'], 'WTSAF2YR'].sum()\n",
        "hba1c_only_weight = merged_all.loc[merged_all['diabetes_hba1c_only'], 'WTSAF2YR'].sum()\n",
        "fpg_only_weight = merged_all.loc[merged_all['diabetes_fpg_only'], 'WTSAF2YR'].sum()\n",
        "\n",
        "print(f\"Weighted % Detected by Both: {both_weight / total_weight:.2%}\")\n",
        "print(f\"Weighted % HbA1c only: {hba1c_only_weight / total_weight:.2%}\")\n",
        "print(f\"Weighted % FPG only: {fpg_only_weight / total_weight:.2%}\")"
      ],
      "metadata": {
        "colab": {
          "base_uri": "https://localhost:8080/"
        },
        "id": "2Ucgn1blkxxI",
        "outputId": "6b630310-62bf-4b64-cf08-ede4be8ef606"
      },
      "execution_count": null,
      "outputs": [
        {
          "output_type": "stream",
          "name": "stdout",
          "text": [
            "Weighted % Detected by Both: 58.89%\n",
            "Weighted % HbA1c only: 15.33%\n",
            "Weighted % FPG only: 25.78%\n"
          ]
        }
      ]
    },
    {
      "cell_type": "markdown",
      "source": [
        "From the NHANES results from 2007 to 2023, we can know that slightly more than half of the individuals (58.89%) show abnormal values in both HbA1c and FPG tests. However, 15.33% of participants have a normal fasting plasma glucose level, but their HbA1c is higher than 5.7% which indicates abnormal. At the same time, 25.78% of participants have a fasting plasma glucose of more than 100mg/dL while having normal HbA1c. As a result, this suggests that if only either HbA1c or fasting plasma glucose tests are used, about 15 to 26% of people who have diabetes would be missed. Therefore, both tests need to be done together in order to obtain a more reliable result."
      ],
      "metadata": {
        "id": "rr8u7WrFk3Mf"
      }
    },
    {
      "cell_type": "code",
      "source": [
        "def classify_hba1c(x):\n",
        "    if x >= 6.5:\n",
        "        return 'diabetes'\n",
        "    elif x >= 5.7:\n",
        "        return 'prediabetes'\n",
        "    else:\n",
        "        return 'normal'\n",
        "\n",
        "def classify_fpg(x):\n",
        "    if x >= 126:\n",
        "        return 'diabetes'\n",
        "    elif x >= 100:\n",
        "        return 'prediabetes'\n",
        "    else:\n",
        "        return 'normal'\n",
        "\n",
        "merged_all['hba1c_group'] = merged_all['LBXGH'].apply(classify_hba1c)\n",
        "merged_all['fpg_group'] = merged_all['LBXGLU'].apply(classify_fpg)"
      ],
      "metadata": {
        "id": "Pd5vlDH5k9UN"
      },
      "execution_count": null,
      "outputs": []
    },
    {
      "cell_type": "code",
      "source": [
        "pd.crosstab(merged_all['hba1c_group'], merged_all['fpg_group'], normalize='index') * 100"
      ],
      "metadata": {
        "colab": {
          "base_uri": "https://localhost:8080/",
          "height": 175
        },
        "id": "ez3AyJsqmVaP",
        "outputId": "a6900c49-19bb-409b-eceb-dd5a1c9d3a01"
      },
      "execution_count": null,
      "outputs": [
        {
          "output_type": "execute_result",
          "data": {
            "text/plain": [
              "fpg_group     diabetes     normal  prediabetes\n",
              "hba1c_group                                   \n",
              "diabetes     76.876268   4.935767    18.187965\n",
              "normal        1.223387  66.814956    31.961657\n",
              "prediabetes  10.552112  30.171544    59.276344"
            ],
            "text/html": [
              "\n",
              "  <div id=\"df-c60d6664-fdf5-42b8-87cc-90da142beec8\" class=\"colab-df-container\">\n",
              "    <div>\n",
              "<style scoped>\n",
              "    .dataframe tbody tr th:only-of-type {\n",
              "        vertical-align: middle;\n",
              "    }\n",
              "\n",
              "    .dataframe tbody tr th {\n",
              "        vertical-align: top;\n",
              "    }\n",
              "\n",
              "    .dataframe thead th {\n",
              "        text-align: right;\n",
              "    }\n",
              "</style>\n",
              "<table border=\"1\" class=\"dataframe\">\n",
              "  <thead>\n",
              "    <tr style=\"text-align: right;\">\n",
              "      <th>fpg_group</th>\n",
              "      <th>diabetes</th>\n",
              "      <th>normal</th>\n",
              "      <th>prediabetes</th>\n",
              "    </tr>\n",
              "    <tr>\n",
              "      <th>hba1c_group</th>\n",
              "      <th></th>\n",
              "      <th></th>\n",
              "      <th></th>\n",
              "    </tr>\n",
              "  </thead>\n",
              "  <tbody>\n",
              "    <tr>\n",
              "      <th>diabetes</th>\n",
              "      <td>76.876268</td>\n",
              "      <td>4.935767</td>\n",
              "      <td>18.187965</td>\n",
              "    </tr>\n",
              "    <tr>\n",
              "      <th>normal</th>\n",
              "      <td>1.223387</td>\n",
              "      <td>66.814956</td>\n",
              "      <td>31.961657</td>\n",
              "    </tr>\n",
              "    <tr>\n",
              "      <th>prediabetes</th>\n",
              "      <td>10.552112</td>\n",
              "      <td>30.171544</td>\n",
              "      <td>59.276344</td>\n",
              "    </tr>\n",
              "  </tbody>\n",
              "</table>\n",
              "</div>\n",
              "    <div class=\"colab-df-buttons\">\n",
              "\n",
              "  <div class=\"colab-df-container\">\n",
              "    <button class=\"colab-df-convert\" onclick=\"convertToInteractive('df-c60d6664-fdf5-42b8-87cc-90da142beec8')\"\n",
              "            title=\"Convert this dataframe to an interactive table.\"\n",
              "            style=\"display:none;\">\n",
              "\n",
              "  <svg xmlns=\"http://www.w3.org/2000/svg\" height=\"24px\" viewBox=\"0 -960 960 960\">\n",
              "    <path d=\"M120-120v-720h720v720H120Zm60-500h600v-160H180v160Zm220 220h160v-160H400v160Zm0 220h160v-160H400v160ZM180-400h160v-160H180v160Zm440 0h160v-160H620v160ZM180-180h160v-160H180v160Zm440 0h160v-160H620v160Z\"/>\n",
              "  </svg>\n",
              "    </button>\n",
              "\n",
              "  <style>\n",
              "    .colab-df-container {\n",
              "      display:flex;\n",
              "      gap: 12px;\n",
              "    }\n",
              "\n",
              "    .colab-df-convert {\n",
              "      background-color: #E8F0FE;\n",
              "      border: none;\n",
              "      border-radius: 50%;\n",
              "      cursor: pointer;\n",
              "      display: none;\n",
              "      fill: #1967D2;\n",
              "      height: 32px;\n",
              "      padding: 0 0 0 0;\n",
              "      width: 32px;\n",
              "    }\n",
              "\n",
              "    .colab-df-convert:hover {\n",
              "      background-color: #E2EBFA;\n",
              "      box-shadow: 0px 1px 2px rgba(60, 64, 67, 0.3), 0px 1px 3px 1px rgba(60, 64, 67, 0.15);\n",
              "      fill: #174EA6;\n",
              "    }\n",
              "\n",
              "    .colab-df-buttons div {\n",
              "      margin-bottom: 4px;\n",
              "    }\n",
              "\n",
              "    [theme=dark] .colab-df-convert {\n",
              "      background-color: #3B4455;\n",
              "      fill: #D2E3FC;\n",
              "    }\n",
              "\n",
              "    [theme=dark] .colab-df-convert:hover {\n",
              "      background-color: #434B5C;\n",
              "      box-shadow: 0px 1px 3px 1px rgba(0, 0, 0, 0.15);\n",
              "      filter: drop-shadow(0px 1px 2px rgba(0, 0, 0, 0.3));\n",
              "      fill: #FFFFFF;\n",
              "    }\n",
              "  </style>\n",
              "\n",
              "    <script>\n",
              "      const buttonEl =\n",
              "        document.querySelector('#df-c60d6664-fdf5-42b8-87cc-90da142beec8 button.colab-df-convert');\n",
              "      buttonEl.style.display =\n",
              "        google.colab.kernel.accessAllowed ? 'block' : 'none';\n",
              "\n",
              "      async function convertToInteractive(key) {\n",
              "        const element = document.querySelector('#df-c60d6664-fdf5-42b8-87cc-90da142beec8');\n",
              "        const dataTable =\n",
              "          await google.colab.kernel.invokeFunction('convertToInteractive',\n",
              "                                                    [key], {});\n",
              "        if (!dataTable) return;\n",
              "\n",
              "        const docLinkHtml = 'Like what you see? Visit the ' +\n",
              "          '<a target=\"_blank\" href=https://colab.research.google.com/notebooks/data_table.ipynb>data table notebook</a>'\n",
              "          + ' to learn more about interactive tables.';\n",
              "        element.innerHTML = '';\n",
              "        dataTable['output_type'] = 'display_data';\n",
              "        await google.colab.output.renderOutput(dataTable, element);\n",
              "        const docLink = document.createElement('div');\n",
              "        docLink.innerHTML = docLinkHtml;\n",
              "        element.appendChild(docLink);\n",
              "      }\n",
              "    </script>\n",
              "  </div>\n",
              "\n",
              "\n",
              "    <div id=\"df-9318ad66-8f6b-4ed5-9449-e1590b6d41ed\">\n",
              "      <button class=\"colab-df-quickchart\" onclick=\"quickchart('df-9318ad66-8f6b-4ed5-9449-e1590b6d41ed')\"\n",
              "                title=\"Suggest charts\"\n",
              "                style=\"display:none;\">\n",
              "\n",
              "<svg xmlns=\"http://www.w3.org/2000/svg\" height=\"24px\"viewBox=\"0 0 24 24\"\n",
              "     width=\"24px\">\n",
              "    <g>\n",
              "        <path d=\"M19 3H5c-1.1 0-2 .9-2 2v14c0 1.1.9 2 2 2h14c1.1 0 2-.9 2-2V5c0-1.1-.9-2-2-2zM9 17H7v-7h2v7zm4 0h-2V7h2v10zm4 0h-2v-4h2v4z\"/>\n",
              "    </g>\n",
              "</svg>\n",
              "      </button>\n",
              "\n",
              "<style>\n",
              "  .colab-df-quickchart {\n",
              "      --bg-color: #E8F0FE;\n",
              "      --fill-color: #1967D2;\n",
              "      --hover-bg-color: #E2EBFA;\n",
              "      --hover-fill-color: #174EA6;\n",
              "      --disabled-fill-color: #AAA;\n",
              "      --disabled-bg-color: #DDD;\n",
              "  }\n",
              "\n",
              "  [theme=dark] .colab-df-quickchart {\n",
              "      --bg-color: #3B4455;\n",
              "      --fill-color: #D2E3FC;\n",
              "      --hover-bg-color: #434B5C;\n",
              "      --hover-fill-color: #FFFFFF;\n",
              "      --disabled-bg-color: #3B4455;\n",
              "      --disabled-fill-color: #666;\n",
              "  }\n",
              "\n",
              "  .colab-df-quickchart {\n",
              "    background-color: var(--bg-color);\n",
              "    border: none;\n",
              "    border-radius: 50%;\n",
              "    cursor: pointer;\n",
              "    display: none;\n",
              "    fill: var(--fill-color);\n",
              "    height: 32px;\n",
              "    padding: 0;\n",
              "    width: 32px;\n",
              "  }\n",
              "\n",
              "  .colab-df-quickchart:hover {\n",
              "    background-color: var(--hover-bg-color);\n",
              "    box-shadow: 0 1px 2px rgba(60, 64, 67, 0.3), 0 1px 3px 1px rgba(60, 64, 67, 0.15);\n",
              "    fill: var(--button-hover-fill-color);\n",
              "  }\n",
              "\n",
              "  .colab-df-quickchart-complete:disabled,\n",
              "  .colab-df-quickchart-complete:disabled:hover {\n",
              "    background-color: var(--disabled-bg-color);\n",
              "    fill: var(--disabled-fill-color);\n",
              "    box-shadow: none;\n",
              "  }\n",
              "\n",
              "  .colab-df-spinner {\n",
              "    border: 2px solid var(--fill-color);\n",
              "    border-color: transparent;\n",
              "    border-bottom-color: var(--fill-color);\n",
              "    animation:\n",
              "      spin 1s steps(1) infinite;\n",
              "  }\n",
              "\n",
              "  @keyframes spin {\n",
              "    0% {\n",
              "      border-color: transparent;\n",
              "      border-bottom-color: var(--fill-color);\n",
              "      border-left-color: var(--fill-color);\n",
              "    }\n",
              "    20% {\n",
              "      border-color: transparent;\n",
              "      border-left-color: var(--fill-color);\n",
              "      border-top-color: var(--fill-color);\n",
              "    }\n",
              "    30% {\n",
              "      border-color: transparent;\n",
              "      border-left-color: var(--fill-color);\n",
              "      border-top-color: var(--fill-color);\n",
              "      border-right-color: var(--fill-color);\n",
              "    }\n",
              "    40% {\n",
              "      border-color: transparent;\n",
              "      border-right-color: var(--fill-color);\n",
              "      border-top-color: var(--fill-color);\n",
              "    }\n",
              "    60% {\n",
              "      border-color: transparent;\n",
              "      border-right-color: var(--fill-color);\n",
              "    }\n",
              "    80% {\n",
              "      border-color: transparent;\n",
              "      border-right-color: var(--fill-color);\n",
              "      border-bottom-color: var(--fill-color);\n",
              "    }\n",
              "    90% {\n",
              "      border-color: transparent;\n",
              "      border-bottom-color: var(--fill-color);\n",
              "    }\n",
              "  }\n",
              "</style>\n",
              "\n",
              "      <script>\n",
              "        async function quickchart(key) {\n",
              "          const quickchartButtonEl =\n",
              "            document.querySelector('#' + key + ' button');\n",
              "          quickchartButtonEl.disabled = true;  // To prevent multiple clicks.\n",
              "          quickchartButtonEl.classList.add('colab-df-spinner');\n",
              "          try {\n",
              "            const charts = await google.colab.kernel.invokeFunction(\n",
              "                'suggestCharts', [key], {});\n",
              "          } catch (error) {\n",
              "            console.error('Error during call to suggestCharts:', error);\n",
              "          }\n",
              "          quickchartButtonEl.classList.remove('colab-df-spinner');\n",
              "          quickchartButtonEl.classList.add('colab-df-quickchart-complete');\n",
              "        }\n",
              "        (() => {\n",
              "          let quickchartButtonEl =\n",
              "            document.querySelector('#df-9318ad66-8f6b-4ed5-9449-e1590b6d41ed button');\n",
              "          quickchartButtonEl.style.display =\n",
              "            google.colab.kernel.accessAllowed ? 'block' : 'none';\n",
              "        })();\n",
              "      </script>\n",
              "    </div>\n",
              "\n",
              "    </div>\n",
              "  </div>\n"
            ],
            "application/vnd.google.colaboratory.intrinsic+json": {
              "type": "dataframe",
              "summary": "{\n  \"name\": \"pd\",\n  \"rows\": 3,\n  \"fields\": [\n    {\n      \"column\": \"hba1c_group\",\n      \"properties\": {\n        \"dtype\": \"string\",\n        \"num_unique_values\": 3,\n        \"samples\": [\n          \"diabetes\",\n          \"normal\",\n          \"prediabetes\"\n        ],\n        \"semantic_type\": \"\",\n        \"description\": \"\"\n      }\n    },\n    {\n      \"column\": \"diabetes\",\n      \"properties\": {\n        \"dtype\": \"number\",\n        \"std\": 41.24980215493325,\n        \"min\": 1.2233873530346362,\n        \"max\": 76.8762677484787,\n        \"num_unique_values\": 3,\n        \"samples\": [\n          76.8762677484787,\n          1.2233873530346362,\n          10.552111863918121\n        ],\n        \"semantic_type\": \"\",\n        \"description\": \"\"\n      }\n    },\n    {\n      \"column\": \"normal\",\n      \"properties\": {\n        \"dtype\": \"number\",\n        \"std\": 31.114353746605367,\n        \"min\": 4.935767410412441,\n        \"max\": 66.81495604279208,\n        \"num_unique_values\": 3,\n        \"samples\": [\n          4.935767410412441,\n          66.81495604279208,\n          30.171543895055496\n        ],\n        \"semantic_type\": \"\",\n        \"description\": \"\"\n      }\n    },\n    {\n      \"column\": \"prediabetes\",\n      \"properties\": {\n        \"dtype\": \"number\",\n        \"std\": 20.912761921827904,\n        \"min\": 18.187964841108858,\n        \"max\": 59.27634424102638,\n        \"num_unique_values\": 3,\n        \"samples\": [\n          18.187964841108858,\n          31.96165660417329,\n          59.27634424102638\n        ],\n        \"semantic_type\": \"\",\n        \"description\": \"\"\n      }\n    }\n  ]\n}"
            }
          },
          "metadata": {},
          "execution_count": 17
        }
      ]
    },
    {
      "cell_type": "code",
      "source": [
        "import pandas as pd\n",
        "\n",
        "# Define the data\n",
        "missed_cases = {\n",
        "    \"Scenario\": [\n",
        "        \"HbA1c says diabetic, missed by FPG\",\n",
        "        \"FPG says diabetic, missed by HbA1c\",\n",
        "        \"HbA1c says prediabetic, classified as normal by FPG\",\n",
        "        \"FPG says prediabetic, classified as normal by HbA1c\"\n",
        "    ],\n",
        "    \"Percentage Missed (%)\": [23.13, 11.77, 30.17, 31.96]\n",
        "}\n",
        "\n",
        "# Convert to DataFrame\n",
        "df = pd.DataFrame(missed_cases)\n",
        "\n",
        "# Display the table\n",
        "print(df)\n"
      ],
      "metadata": {
        "colab": {
          "base_uri": "https://localhost:8080/"
        },
        "id": "sM4pCejunKKS",
        "outputId": "9cb92680-8fcc-422e-990e-8dae9b24c838"
      },
      "execution_count": null,
      "outputs": [
        {
          "output_type": "stream",
          "name": "stdout",
          "text": [
            "                                            Scenario  Percentage Missed (%)\n",
            "0                 HbA1c says diabetic, missed by FPG                  23.13\n",
            "1                 FPG says diabetic, missed by HbA1c                  11.77\n",
            "2  HbA1c says prediabetic, classified as normal b...                  30.17\n",
            "3  FPG says prediabetic, classified as normal by ...                  31.96\n"
          ]
        }
      ]
    },
    {
      "cell_type": "markdown",
      "source": [
        "The cross-tabulation results show that the HbA1c test is more likely to correctly identify people with diabetes, as there is only 11.77% of patients missed by HbA1c compared to 23.13% for FPG. Even so, both HbA1c and FPG are equally weak in identifying people with prediabetes since both tests have roughly the same percentage of patients missed."
      ],
      "metadata": {
        "id": "2WPSrgvbzGK8"
      }
    },
    {
      "cell_type": "markdown",
      "source": [
        "### Difference between cross-tabulation and weighted % table"
      ],
      "metadata": {
        "id": "KECfvBgP0mR4"
      }
    },
    {
      "cell_type": "markdown",
      "source": [
        "Although cross-tabulation and weighted % table results might seem similar, there are several significant differences between them. Firstly, cross-tabulation shows how FPG and HbA1c classification match or mismatch. The weighted % table shows how much the two tests agree or disagree overall in identifying abnormal glucose levels. Secondly, the results from the cross-tabulation will also be more detailed, as they break down into different diagnosis categories, such as normal, prediabetes, and diabetes. The weighted % table just shows the overall summary of overlap and disagreement. Lastly, the result obtained for the cross-tabulation is not weighted; it uses raw proportions from the sample. However, for the weighted % table, the results are weighted as the sample it uses is adjusted according to the US population.\n",
        "\n"
      ],
      "metadata": {
        "id": "TmaVEvLx0uH2"
      }
    },
    {
      "cell_type": "markdown",
      "source": [
        "### Overview of Blood Glucose Markers in the Sample"
      ],
      "metadata": {
        "id": "WRDdvDzV0yMY"
      }
    },
    {
      "cell_type": "code",
      "source": [
        "df = merged_all  # assuming your dataset is called merged_all"
      ],
      "metadata": {
        "id": "bvifPQBU1H7L"
      },
      "execution_count": null,
      "outputs": []
    },
    {
      "cell_type": "code",
      "source": [
        "# Basic descriptive stats\n",
        "df[['LBXGH', 'LBXGLU']].describe()"
      ],
      "metadata": {
        "colab": {
          "base_uri": "https://localhost:8080/",
          "height": 300
        },
        "id": "rJAmwEmt07Ub",
        "outputId": "9409133d-8b7e-4f44-cb0e-3a77838cb89f"
      },
      "execution_count": null,
      "outputs": [
        {
          "output_type": "execute_result",
          "data": {
            "text/plain": [
              "              LBXGH        LBXGLU\n",
              "count  27132.000000  26980.000000\n",
              "mean       5.722531    108.444996\n",
              "std        1.056531     34.842633\n",
              "min        2.800000     21.000000\n",
              "25%        5.200000     93.000000\n",
              "50%        5.500000    100.000000\n",
              "75%        5.800000    110.000000\n",
              "max       17.100000    584.000000"
            ],
            "text/html": [
              "\n",
              "  <div id=\"df-aaf5db26-dc03-4d9c-be67-8cf5c905d980\" class=\"colab-df-container\">\n",
              "    <div>\n",
              "<style scoped>\n",
              "    .dataframe tbody tr th:only-of-type {\n",
              "        vertical-align: middle;\n",
              "    }\n",
              "\n",
              "    .dataframe tbody tr th {\n",
              "        vertical-align: top;\n",
              "    }\n",
              "\n",
              "    .dataframe thead th {\n",
              "        text-align: right;\n",
              "    }\n",
              "</style>\n",
              "<table border=\"1\" class=\"dataframe\">\n",
              "  <thead>\n",
              "    <tr style=\"text-align: right;\">\n",
              "      <th></th>\n",
              "      <th>LBXGH</th>\n",
              "      <th>LBXGLU</th>\n",
              "    </tr>\n",
              "  </thead>\n",
              "  <tbody>\n",
              "    <tr>\n",
              "      <th>count</th>\n",
              "      <td>27132.000000</td>\n",
              "      <td>26980.000000</td>\n",
              "    </tr>\n",
              "    <tr>\n",
              "      <th>mean</th>\n",
              "      <td>5.722531</td>\n",
              "      <td>108.444996</td>\n",
              "    </tr>\n",
              "    <tr>\n",
              "      <th>std</th>\n",
              "      <td>1.056531</td>\n",
              "      <td>34.842633</td>\n",
              "    </tr>\n",
              "    <tr>\n",
              "      <th>min</th>\n",
              "      <td>2.800000</td>\n",
              "      <td>21.000000</td>\n",
              "    </tr>\n",
              "    <tr>\n",
              "      <th>25%</th>\n",
              "      <td>5.200000</td>\n",
              "      <td>93.000000</td>\n",
              "    </tr>\n",
              "    <tr>\n",
              "      <th>50%</th>\n",
              "      <td>5.500000</td>\n",
              "      <td>100.000000</td>\n",
              "    </tr>\n",
              "    <tr>\n",
              "      <th>75%</th>\n",
              "      <td>5.800000</td>\n",
              "      <td>110.000000</td>\n",
              "    </tr>\n",
              "    <tr>\n",
              "      <th>max</th>\n",
              "      <td>17.100000</td>\n",
              "      <td>584.000000</td>\n",
              "    </tr>\n",
              "  </tbody>\n",
              "</table>\n",
              "</div>\n",
              "    <div class=\"colab-df-buttons\">\n",
              "\n",
              "  <div class=\"colab-df-container\">\n",
              "    <button class=\"colab-df-convert\" onclick=\"convertToInteractive('df-aaf5db26-dc03-4d9c-be67-8cf5c905d980')\"\n",
              "            title=\"Convert this dataframe to an interactive table.\"\n",
              "            style=\"display:none;\">\n",
              "\n",
              "  <svg xmlns=\"http://www.w3.org/2000/svg\" height=\"24px\" viewBox=\"0 -960 960 960\">\n",
              "    <path d=\"M120-120v-720h720v720H120Zm60-500h600v-160H180v160Zm220 220h160v-160H400v160Zm0 220h160v-160H400v160ZM180-400h160v-160H180v160Zm440 0h160v-160H620v160ZM180-180h160v-160H180v160Zm440 0h160v-160H620v160Z\"/>\n",
              "  </svg>\n",
              "    </button>\n",
              "\n",
              "  <style>\n",
              "    .colab-df-container {\n",
              "      display:flex;\n",
              "      gap: 12px;\n",
              "    }\n",
              "\n",
              "    .colab-df-convert {\n",
              "      background-color: #E8F0FE;\n",
              "      border: none;\n",
              "      border-radius: 50%;\n",
              "      cursor: pointer;\n",
              "      display: none;\n",
              "      fill: #1967D2;\n",
              "      height: 32px;\n",
              "      padding: 0 0 0 0;\n",
              "      width: 32px;\n",
              "    }\n",
              "\n",
              "    .colab-df-convert:hover {\n",
              "      background-color: #E2EBFA;\n",
              "      box-shadow: 0px 1px 2px rgba(60, 64, 67, 0.3), 0px 1px 3px 1px rgba(60, 64, 67, 0.15);\n",
              "      fill: #174EA6;\n",
              "    }\n",
              "\n",
              "    .colab-df-buttons div {\n",
              "      margin-bottom: 4px;\n",
              "    }\n",
              "\n",
              "    [theme=dark] .colab-df-convert {\n",
              "      background-color: #3B4455;\n",
              "      fill: #D2E3FC;\n",
              "    }\n",
              "\n",
              "    [theme=dark] .colab-df-convert:hover {\n",
              "      background-color: #434B5C;\n",
              "      box-shadow: 0px 1px 3px 1px rgba(0, 0, 0, 0.15);\n",
              "      filter: drop-shadow(0px 1px 2px rgba(0, 0, 0, 0.3));\n",
              "      fill: #FFFFFF;\n",
              "    }\n",
              "  </style>\n",
              "\n",
              "    <script>\n",
              "      const buttonEl =\n",
              "        document.querySelector('#df-aaf5db26-dc03-4d9c-be67-8cf5c905d980 button.colab-df-convert');\n",
              "      buttonEl.style.display =\n",
              "        google.colab.kernel.accessAllowed ? 'block' : 'none';\n",
              "\n",
              "      async function convertToInteractive(key) {\n",
              "        const element = document.querySelector('#df-aaf5db26-dc03-4d9c-be67-8cf5c905d980');\n",
              "        const dataTable =\n",
              "          await google.colab.kernel.invokeFunction('convertToInteractive',\n",
              "                                                    [key], {});\n",
              "        if (!dataTable) return;\n",
              "\n",
              "        const docLinkHtml = 'Like what you see? Visit the ' +\n",
              "          '<a target=\"_blank\" href=https://colab.research.google.com/notebooks/data_table.ipynb>data table notebook</a>'\n",
              "          + ' to learn more about interactive tables.';\n",
              "        element.innerHTML = '';\n",
              "        dataTable['output_type'] = 'display_data';\n",
              "        await google.colab.output.renderOutput(dataTable, element);\n",
              "        const docLink = document.createElement('div');\n",
              "        docLink.innerHTML = docLinkHtml;\n",
              "        element.appendChild(docLink);\n",
              "      }\n",
              "    </script>\n",
              "  </div>\n",
              "\n",
              "\n",
              "    <div id=\"df-c925718f-8fe3-4fce-af9f-da2481001ce1\">\n",
              "      <button class=\"colab-df-quickchart\" onclick=\"quickchart('df-c925718f-8fe3-4fce-af9f-da2481001ce1')\"\n",
              "                title=\"Suggest charts\"\n",
              "                style=\"display:none;\">\n",
              "\n",
              "<svg xmlns=\"http://www.w3.org/2000/svg\" height=\"24px\"viewBox=\"0 0 24 24\"\n",
              "     width=\"24px\">\n",
              "    <g>\n",
              "        <path d=\"M19 3H5c-1.1 0-2 .9-2 2v14c0 1.1.9 2 2 2h14c1.1 0 2-.9 2-2V5c0-1.1-.9-2-2-2zM9 17H7v-7h2v7zm4 0h-2V7h2v10zm4 0h-2v-4h2v4z\"/>\n",
              "    </g>\n",
              "</svg>\n",
              "      </button>\n",
              "\n",
              "<style>\n",
              "  .colab-df-quickchart {\n",
              "      --bg-color: #E8F0FE;\n",
              "      --fill-color: #1967D2;\n",
              "      --hover-bg-color: #E2EBFA;\n",
              "      --hover-fill-color: #174EA6;\n",
              "      --disabled-fill-color: #AAA;\n",
              "      --disabled-bg-color: #DDD;\n",
              "  }\n",
              "\n",
              "  [theme=dark] .colab-df-quickchart {\n",
              "      --bg-color: #3B4455;\n",
              "      --fill-color: #D2E3FC;\n",
              "      --hover-bg-color: #434B5C;\n",
              "      --hover-fill-color: #FFFFFF;\n",
              "      --disabled-bg-color: #3B4455;\n",
              "      --disabled-fill-color: #666;\n",
              "  }\n",
              "\n",
              "  .colab-df-quickchart {\n",
              "    background-color: var(--bg-color);\n",
              "    border: none;\n",
              "    border-radius: 50%;\n",
              "    cursor: pointer;\n",
              "    display: none;\n",
              "    fill: var(--fill-color);\n",
              "    height: 32px;\n",
              "    padding: 0;\n",
              "    width: 32px;\n",
              "  }\n",
              "\n",
              "  .colab-df-quickchart:hover {\n",
              "    background-color: var(--hover-bg-color);\n",
              "    box-shadow: 0 1px 2px rgba(60, 64, 67, 0.3), 0 1px 3px 1px rgba(60, 64, 67, 0.15);\n",
              "    fill: var(--button-hover-fill-color);\n",
              "  }\n",
              "\n",
              "  .colab-df-quickchart-complete:disabled,\n",
              "  .colab-df-quickchart-complete:disabled:hover {\n",
              "    background-color: var(--disabled-bg-color);\n",
              "    fill: var(--disabled-fill-color);\n",
              "    box-shadow: none;\n",
              "  }\n",
              "\n",
              "  .colab-df-spinner {\n",
              "    border: 2px solid var(--fill-color);\n",
              "    border-color: transparent;\n",
              "    border-bottom-color: var(--fill-color);\n",
              "    animation:\n",
              "      spin 1s steps(1) infinite;\n",
              "  }\n",
              "\n",
              "  @keyframes spin {\n",
              "    0% {\n",
              "      border-color: transparent;\n",
              "      border-bottom-color: var(--fill-color);\n",
              "      border-left-color: var(--fill-color);\n",
              "    }\n",
              "    20% {\n",
              "      border-color: transparent;\n",
              "      border-left-color: var(--fill-color);\n",
              "      border-top-color: var(--fill-color);\n",
              "    }\n",
              "    30% {\n",
              "      border-color: transparent;\n",
              "      border-left-color: var(--fill-color);\n",
              "      border-top-color: var(--fill-color);\n",
              "      border-right-color: var(--fill-color);\n",
              "    }\n",
              "    40% {\n",
              "      border-color: transparent;\n",
              "      border-right-color: var(--fill-color);\n",
              "      border-top-color: var(--fill-color);\n",
              "    }\n",
              "    60% {\n",
              "      border-color: transparent;\n",
              "      border-right-color: var(--fill-color);\n",
              "    }\n",
              "    80% {\n",
              "      border-color: transparent;\n",
              "      border-right-color: var(--fill-color);\n",
              "      border-bottom-color: var(--fill-color);\n",
              "    }\n",
              "    90% {\n",
              "      border-color: transparent;\n",
              "      border-bottom-color: var(--fill-color);\n",
              "    }\n",
              "  }\n",
              "</style>\n",
              "\n",
              "      <script>\n",
              "        async function quickchart(key) {\n",
              "          const quickchartButtonEl =\n",
              "            document.querySelector('#' + key + ' button');\n",
              "          quickchartButtonEl.disabled = true;  // To prevent multiple clicks.\n",
              "          quickchartButtonEl.classList.add('colab-df-spinner');\n",
              "          try {\n",
              "            const charts = await google.colab.kernel.invokeFunction(\n",
              "                'suggestCharts', [key], {});\n",
              "          } catch (error) {\n",
              "            console.error('Error during call to suggestCharts:', error);\n",
              "          }\n",
              "          quickchartButtonEl.classList.remove('colab-df-spinner');\n",
              "          quickchartButtonEl.classList.add('colab-df-quickchart-complete');\n",
              "        }\n",
              "        (() => {\n",
              "          let quickchartButtonEl =\n",
              "            document.querySelector('#df-c925718f-8fe3-4fce-af9f-da2481001ce1 button');\n",
              "          quickchartButtonEl.style.display =\n",
              "            google.colab.kernel.accessAllowed ? 'block' : 'none';\n",
              "        })();\n",
              "      </script>\n",
              "    </div>\n",
              "\n",
              "    </div>\n",
              "  </div>\n"
            ],
            "application/vnd.google.colaboratory.intrinsic+json": {
              "type": "dataframe",
              "summary": "{\n  \"name\": \"df[['LBXGH', 'LBXGLU']]\",\n  \"rows\": 8,\n  \"fields\": [\n    {\n      \"column\": \"LBXGH\",\n      \"properties\": {\n        \"dtype\": \"number\",\n        \"std\": 9590.430903576915,\n        \"min\": 1.0565311382690463,\n        \"max\": 27132.0,\n        \"num_unique_values\": 8,\n        \"samples\": [\n          5.722530591183841,\n          5.5,\n          27132.0\n        ],\n        \"semantic_type\": \"\",\n        \"description\": \"\"\n      }\n    },\n    {\n      \"column\": \"LBXGLU\",\n      \"properties\": {\n        \"dtype\": \"number\",\n        \"std\": 9487.484120481471,\n        \"min\": 21.0,\n        \"max\": 26980.0,\n        \"num_unique_values\": 8,\n        \"samples\": [\n          108.44499629355077,\n          100.0,\n          26980.0\n        ],\n        \"semantic_type\": \"\",\n        \"description\": \"\"\n      }\n    }\n  ]\n}"
            }
          },
          "metadata": {},
          "execution_count": 20
        }
      ]
    },
    {
      "cell_type": "code",
      "source": [
        "df['LBXGH'].quantile([0.25, 0.5, 0.75])\n",
        "print(\"Skewness (HbA1c):\", df['LBXGH'].skew())"
      ],
      "metadata": {
        "colab": {
          "base_uri": "https://localhost:8080/"
        },
        "id": "0lyJxbJ613_l",
        "outputId": "43547b08-7f41-4017-e3ab-6211a4ba6097"
      },
      "execution_count": null,
      "outputs": [
        {
          "output_type": "stream",
          "name": "stdout",
          "text": [
            "Skewness (HbA1c): 3.7024864818619703\n"
          ]
        }
      ]
    },
    {
      "cell_type": "code",
      "source": [
        "df['LBXGLU'].quantile([0.25, 0.5, 0.75])\n",
        "print(\"Skewness (FPG):\", df['LBXGLU'].skew())"
      ],
      "metadata": {
        "colab": {
          "base_uri": "https://localhost:8080/"
        },
        "id": "TgvUuP7z17bd",
        "outputId": "e9fe246a-7324-41d6-8af4-d38a41d61427"
      },
      "execution_count": null,
      "outputs": [
        {
          "output_type": "stream",
          "name": "stdout",
          "text": [
            "Skewness (FPG): 4.50289294027458\n"
          ]
        }
      ]
    },
    {
      "cell_type": "markdown",
      "source": [
        "From the descriptive statistics of LBXGH, we can know that among the 27132 participants, the median is 5.50% and this is below 5.7% so at least half of the participants have normal HbA1c. Since the standard deviation for this is only 1.06%, which suggests that the HbA1c values are fairly concentrated around the mean. At the same time, it has a skewness value of 3.70, a strong positive skew. This means that most people have low to normal HbA1c, only a few people have very high values that pull the distribution to the right. While for LBXGLU, the median is 100.00mg/dL, which indicates that at least half of the participants do not have diabetes. However, fasting plasma glucose shows much more variability since it has a high standard deviation of 34.84. This means that there is a wide range of glucose levels in the population. Again, for fasting plasma glucose, it also has a strong positive skew value of 4.50. Overall, the sample consists of a mixture of normal, prediabetic, and diabetic individuals.\n",
        "\n"
      ],
      "metadata": {
        "id": "syBkdNnS1V5F"
      }
    },
    {
      "cell_type": "markdown",
      "source": [
        "### Checking for normality"
      ],
      "metadata": {
        "id": "NZVsLmrV1ZMi"
      }
    },
    {
      "cell_type": "code",
      "source": [
        "from scipy import stats\n",
        "\n",
        "stat, p = stats.shapiro(df['LBXGH'].dropna())\n",
        "print(\"Shapiro-Wilk Test for HbA1c: p =\", p)\n",
        "\n",
        "if p > 0.05:\n",
        "    print(\"Data appears normal.\")\n",
        "else:\n",
        "    print(\"Data is not normally distributed.\")"
      ],
      "metadata": {
        "colab": {
          "base_uri": "https://localhost:8080/"
        },
        "id": "v3HA9gCm2Lpn",
        "outputId": "4be75b52-af4c-4aa0-e861-2d08f1c597f0"
      },
      "execution_count": null,
      "outputs": [
        {
          "output_type": "stream",
          "name": "stdout",
          "text": [
            "Shapiro-Wilk Test for HbA1c: p = 2.2026698940602312e-114\n",
            "Data is not normally distributed.\n"
          ]
        },
        {
          "output_type": "stream",
          "name": "stderr",
          "text": [
            "/usr/local/lib/python3.11/dist-packages/scipy/stats/_axis_nan_policy.py:586: UserWarning: scipy.stats.shapiro: For N > 5000, computed p-value may not be accurate. Current N is 27132.\n",
            "  res = hypotest_fun_out(*samples, **kwds)\n"
          ]
        }
      ]
    },
    {
      "cell_type": "code",
      "source": [
        "from scipy import stats\n",
        "\n",
        "stat, p = stats.shapiro(df['LBXGLU'].dropna())\n",
        "print(\"Shapiro-Wilk Test for FPG: p =\", p)\n",
        "\n",
        "if p > 0.05:\n",
        "    print(\"Data appears normal.\")\n",
        "else:\n",
        "    print(\"Data is not normally distributed.\")"
      ],
      "metadata": {
        "colab": {
          "base_uri": "https://localhost:8080/"
        },
        "id": "9ms9vA3X2NnV",
        "outputId": "d92961c0-b854-43c7-d7bc-b0f8ff758188"
      },
      "execution_count": null,
      "outputs": [
        {
          "output_type": "stream",
          "name": "stdout",
          "text": [
            "Shapiro-Wilk Test for FPG: p = 8.386929199745401e-121\n",
            "Data is not normally distributed.\n"
          ]
        },
        {
          "output_type": "stream",
          "name": "stderr",
          "text": [
            "/usr/local/lib/python3.11/dist-packages/scipy/stats/_axis_nan_policy.py:586: UserWarning: scipy.stats.shapiro: For N > 5000, computed p-value may not be accurate. Current N is 26980.\n",
            "  res = hypotest_fun_out(*samples, **kwds)\n"
          ]
        }
      ]
    },
    {
      "cell_type": "markdown",
      "source": [
        "The Shapiro-Wilk test result for HbA1c and FPG are p=2.20e-114 and 8.39e-121, respectively. This means that the data is not normally distributed. The data is likely to contain outliers or other non-normal characteristics and does not follow a bell curve shape"
      ],
      "metadata": {
        "id": "ug3kQfm02XAD"
      }
    },
    {
      "cell_type": "code",
      "source": [
        "import seaborn as sns\n",
        "import matplotlib.pyplot as plt\n",
        "\n",
        "sns.histplot(df['LBXGH'], bins=30, kde=True)\n",
        "plt.title(\"Histogram of HbA1c\")\n",
        "plt.xlabel(\"HbA1c (%)\")\n",
        "plt.show()"
      ],
      "metadata": {
        "colab": {
          "base_uri": "https://localhost:8080/",
          "height": 472
        },
        "id": "StwoequD2Y3K",
        "outputId": "7f385acc-b7d6-4b49-d32c-6117f0d6846e"
      },
      "execution_count": null,
      "outputs": [
        {
          "output_type": "display_data",
          "data": {
            "text/plain": [
              "<Figure size 640x480 with 1 Axes>"
            ],
            "image/png": "[encoded data removed]"
          },
          "metadata": {}
        }
      ]
    },
    {
      "cell_type": "markdown",
      "source": [
        "From the histogram of HbA1c, we can see that the data is not normally distributed. Although the shape looks roughly symmetrical and has a single peak, it does not have a mirror image tail. Its left tail drops off sharply at 4%, while the right tail seems to stretch till 12%."
      ],
      "metadata": {
        "id": "WWW2HWxd2mqS"
      }
    },
    {
      "cell_type": "code",
      "source": [
        "import seaborn as sns\n",
        "import matplotlib.pyplot as plt\n",
        "import statsmodels.api as sm\n",
        "\n",
        "# Q-Q plot\n",
        "sm.qqplot(df['LBXGH'].dropna(), line='45')\n",
        "plt.title(\"Q-Q Plot of HbA1c\")\n",
        "plt.show()"
      ],
      "metadata": {
        "colab": {
          "base_uri": "https://localhost:8080/",
          "height": 472
        },
        "id": "Bee8j-ys2oRU",
        "outputId": "ec9a0d78-9830-4644-c368-2dbcba929dd6"
      },
      "execution_count": null,
      "outputs": [
        {
          "output_type": "display_data",
          "data": {
            "text/plain": [
              "<Figure size 640x480 with 1 Axes>"
            ],
            "image/png": "[encoded data removed]"
          },
          "metadata": {}
        }
      ]
    },
    {
      "cell_type": "markdown",
      "source": [
        "However, from this quantile-quantile plot of HbA1c, we can even see more clearly that the data is not normally distributed. In a normal distribution, the blue dots should lie near the red lines in a straight diagonal line. From the result we obtained here, we can notice that there is a large deviation from the red reference line, especially at both tails."
      ],
      "metadata": {
        "id": "q50U-BVG20-c"
      }
    },
    {
      "cell_type": "code",
      "source": [
        "sns.histplot(df['LBXGLU'], bins=30, kde=True)\n",
        "plt.title(\"Histogram of Fasting Plasma Glucose\")\n",
        "plt.xlabel(\"FPG (%)\")\n",
        "plt.show()"
      ],
      "metadata": {
        "colab": {
          "base_uri": "https://localhost:8080/",
          "height": 472
        },
        "id": "opsm7rv623Ep",
        "outputId": "88421f9b-b957-401e-93af-1b92f017d046"
      },
      "execution_count": null,
      "outputs": [
        {
          "output_type": "display_data",
          "data": {
            "text/plain": [
              "<Figure size 640x480 with 1 Axes>"
            ],
            "image/png": "[encoded data removed]"
          },
          "metadata": {}
        }
      ]
    },
    {
      "cell_type": "code",
      "source": [
        "# Q-Q plot\n",
        "sm.qqplot(df['LBXGLU'].dropna(), line='45')\n",
        "plt.title(\"Q-Q Plot of Fasting Plasma Glucose\")\n",
        "plt.show()"
      ],
      "metadata": {
        "colab": {
          "base_uri": "https://localhost:8080/",
          "height": 472
        },
        "id": "EZqQ5Iti28AG",
        "outputId": "b6e92013-24ad-4b2b-ee2b-dccd33cf88f6"
      },
      "execution_count": null,
      "outputs": [
        {
          "output_type": "display_data",
          "data": {
            "text/plain": [
              "<Figure size 640x480 with 1 Axes>"
            ],
            "image/png": "[encoded data removed]"
          },
          "metadata": {}
        }
      ]
    },
    {
      "cell_type": "markdown",
      "source": [
        "\n",
        "Similar to HbA1c, the histogram and Q-Q plot of fasting plasma glucose suggest that the data is not normally distributed.\n"
      ],
      "metadata": {
        "id": "PbOiVQ-a3EOR"
      }
    },
    {
      "cell_type": "markdown",
      "source": [
        "# Third objective"
      ],
      "metadata": {
        "id": "7rwBlZh-hv_1"
      }
    },
    {
      "cell_type": "markdown",
      "source": [
        "Among those who self-report diabetes, how many have HbA1c <6.5% or fasting glucose <126 mg/dL (i.e., potentially well-controlled or misclassified)?"
      ],
      "metadata": {
        "id": "upPaB1nMh1s0"
      }
    },
    {
      "cell_type": "markdown",
      "source": [
        "### Introduction"
      ],
      "metadata": {
        "id": "jpn3jMd2Vr-q"
      }
    },
    {
      "cell_type": "markdown",
      "source": [
        "This subtopic focuses on self-reported diabetes, which is commonly used in health surveillance and includes NHANES. The problem that is not often discussed is the consistency of self-reported diabetes and how sometimes it may not always align with the clinical diagnostic criteria. The group of individuals that self-report diabetes may exhibit normal biomarker levels, such as HbA1c being below 6.5% or fasting plasma glucose below 126 mg/dL, which falls below the diagnostic requirements according to the American Diabetes Association.\n",
        "\n",
        "This causes discrepancies, as some people who claim they have diabetes have blood sugar levels that fall within the normal range when tested. This can indicate that those individuals have well-controlled diabetes, which can be achieved through medication or lifestyle changes. However, it can also indicate misdiagnosis, misremembering of the previous diagnosis, or gestational diabetes. Hence, it is important to study these groups of self-reporting diabetes patients to understand how reliable self-reported diabetes data is and assess the success rate of treatments.\n",
        "\n",
        "In this analysis, NHANES data are used to quantify how many individuals who self-report diabetes have biomarker levels below the diabetic range.\n",
        "\n",
        "This analysis aims to identify the percentage of individuals who self-report diabetes that have normal blood sugar levels based on the lab tests, HbA1c <6.5% and fasting glucose <126 mg/dL. This helps to determine if their diabetes is well-controlled or misclassified and how accurate self-reported data is, providing insight into diabetes management.\n"
      ],
      "metadata": {
        "id": "jL-WBW-4Uz8V"
      }
    },
    {
      "cell_type": "markdown",
      "source": [
        "### Variables"
      ],
      "metadata": {
        "id": "nU44DNgDWCoY"
      }
    },
    {
      "cell_type": "markdown",
      "source": [
        "HbA1c\n",
        "\n",
        "*   HbA1c\n",
        "*   Fasting plasma glucose\n",
        "*Diabetes Medication (Controls glucose levels)\n",
        "*Number of people who self-report diabetes\n",
        "*Age\n"
      ],
      "metadata": {
        "id": "8CiUgK3mWJLI"
      }
    },
    {
      "cell_type": "markdown",
      "source": [
        "### HbA1c and Fasting glucose levels of Self-diagnosed diabetes patients\n"
      ],
      "metadata": {
        "id": "bB3pkVvIW1yE"
      }
    },
    {
      "cell_type": "code",
      "source": [
        "import pandas as pd\n",
        "\n",
        "# Load the data\n",
        "glucose = pd.read_csv(\"/content/sample_data/GLU merged.csv\")\n",
        "hba1c = pd.read_csv(\"/content/sample_data/merged data ghb.csv\")\n",
        "diabetes = pd.read_csv(\"/content/sample_data/diabetes diagnosis.csv\")\n",
        "\n",
        "# Merge all on SEQN\n",
        "merged = diabetes.merge(hba1c, on=\"SEQN\", how=\"inner\").merge(glucose, on=\"SEQN\", how=\"inner\")\n",
        "\n",
        "# Filter those who self-report diabetes\n",
        "has_diabetes = merged[merged[\"DIQ010\"] == 1]\n",
        "\n",
        "# Now check if HbA1c < 6.5 or Fasting glucose < 126\n",
        "# Note: replace 'LBXGH' and 'LBXGLU' if your actual column names differ\n",
        "controlled = has_diabetes[\n",
        "    (has_diabetes[\"LBXGH\"] < 6.5) |\n",
        "    (has_diabetes[\"LBXGLU\"] < 126)\n",
        "]\n",
        "\n",
        "# Print the result\n",
        "print(f\"Among {len(has_diabetes)} people who self-report diabetes,\")\n",
        "print(f\"{len(controlled)} have HbA1c < 6.5% or fasting glucose < 126 mg/dL.\")"
      ],
      "metadata": {
        "id": "POFtbhHJXTZV",
        "outputId": "8752bd76-7f7b-4d65-9ee0-a79eb268fb48",
        "colab": {
          "base_uri": "https://localhost:8080/"
        }
      },
      "execution_count": null,
      "outputs": [
        {
          "output_type": "stream",
          "name": "stdout",
          "text": [
            "Among 2719 people who self-report diabetes,\n",
            "1170 have HbA1c < 6.5% or fasting glucose < 126 mg/dL.\n"
          ]
        }
      ]
    },
    {
      "cell_type": "markdown",
      "source": [
        "Using the NHANES data, it is found that among 2719 people who self-reported diabetes, 1170 have HbA1c < 6.5% or fasting glucose < 126 mg/dL. This is 43% of the group that have biomarkers that are below the diabetes range.\n",
        "\n",
        "This suggests that the patients either have well-controlled blood-sugar levels or can be misclassified.\n",
        "\n",
        "This data can also tell us more about how well glycemic control is in self-diagnosed diabetes. This can be seen below in the bar graph.\n",
        "\n",
        "\n"
      ],
      "metadata": {
        "id": "p1_YHdcpW8_P"
      }
    },
    {
      "cell_type": "code",
      "source": [
        "import pandas as pd\n",
        "import matplotlib.pyplot as plt\n",
        "\n",
        "# Load the data\n",
        "glucose = pd.read_csv(\"/content/sample_data/GLU merged.csv\")\n",
        "hba1c = pd.read_csv(\"/content/sample_data/merged data ghb.csv\")\n",
        "diabetes = pd.read_csv(\"/content/sample_data/diabetes diagnosis.csv\")\n",
        "\n",
        "# Merge all on SEQN\n",
        "merged = diabetes.merge(hba1c, on=\"SEQN\", how=\"inner\").merge(glucose, on=\"SEQN\", how=\"inner\")\n",
        "\n",
        "# Filter those who self-report diabetes\n",
        "has_diabetes = merged[merged[\"DIQ010\"] == 1]\n",
        "\n",
        "# Controlled if HbA1c < 6.5 OR fasting glucose < 126 mg/dL\n",
        "# (Replace column names if needed)\n",
        "controlled = has_diabetes[\n",
        "    (has_diabetes[\"LBXGH\"] < 6.5) |\n",
        "    (has_diabetes[\"LBXGLU\"] < 126)\n",
        "]"
      ],
      "metadata": {
        "id": "syY1yiHwqPGU"
      },
      "execution_count": null,
      "outputs": []
    },
    {
      "cell_type": "code",
      "source": [
        "import pandas as pd\n",
        "import matplotlib.pyplot as plt\n",
        "\n",
        "# Load your merged CSVs\n",
        "glucose = pd.read_csv(\"/content/sample_data/GLU merged.csv\")\n",
        "hba1c = pd.read_csv(\"/content/sample_data/merged data ghb.csv\")\n",
        "diabetes = pd.read_csv(\"/content/sample_data/diabetes diagnosis.csv\")\n",
        "\n",
        "# Merge all data on SEQN (participant ID)\n",
        "merged = diabetes.merge(hba1c, on=\"SEQN\", how=\"inner\").merge(glucose, on=\"SEQN\", how=\"inner\")\n",
        "\n",
        "# Filter for participants who self-report diabetes (DIQ010 == 1)\n",
        "has_diabetes = merged[merged[\"DIQ010\"] == 1]\n",
        "\n",
        "# Controlled if HbA1c < 6.5 OR Fasting Glucose < 126\n",
        "controlled = has_diabetes[\n",
        "    (has_diabetes[\"LBXGH\"] < 6.5) |\n",
        "    (has_diabetes[\"LBXGLU\"] < 126)\n",
        "]\n",
        "\n",
        "# Calculate counts\n",
        "total = len(has_diabetes)\n",
        "well_controlled = len(controlled)\n",
        "not_controlled = total - well_controlled\n",
        "\n",
        "# Plotting\n",
        "labels = ['Well-controlled', 'Not controlled']\n",
        "values = [well_controlled, not_controlled]\n",
        "\n",
        "plt.figure(figsize=(8, 5))\n",
        "plt.bar(labels, values)\n",
        "plt.title('Glycemic Control Among Self-Reported Diabetics')\n",
        "plt.ylabel('Number of Individuals')\n",
        "plt.xticks(rotation=15)\n",
        "plt.tight_layout()\n",
        "plt.show()"
      ],
      "metadata": {
        "colab": {
          "base_uri": "https://localhost:8080/",
          "height": 507
        },
        "id": "IDjQvklgqUdi",
        "outputId": "28e71b8f-7321-48ed-b4c5-a0044c77ee95"
      },
      "execution_count": null,
      "outputs": [
        {
          "output_type": "display_data",
          "data": {
            "text/plain": [
              "<Figure size 800x500 with 1 Axes>"
            ],
            "image/png": "[encoded data removed]"
          },
          "metadata": {}
        }
      ]
    },
    {
      "cell_type": "markdown",
      "source": [
        "### HbA1c and by diabetes diagnosis status\n"
      ],
      "metadata": {
        "id": "Ovqf5khGqiP0"
      }
    },
    {
      "cell_type": "markdown",
      "source": [
        "By plotting box plots comparing HbA1c (%) and fasting plasma glucose (mg/dL) distributions between those who self-report diabetes vs those who don’t, we can visualise how well self-reported diabetes aligns with the clinical definition and highlight any overlaps between the two groups.\n"
      ],
      "metadata": {
        "id": "o-6rUbReqqH-"
      }
    },
    {
      "cell_type": "code",
      "source": [
        "import pandas as pd\n",
        "import numpy as np\n",
        "import seaborn as sns\n",
        "import matplotlib.pyplot as plt\n",
        "from scipy.stats import shapiro, skew\n",
        "import statsmodels.api as sm\n",
        "\n",
        "# Load your datasets\n",
        "diabetes_df = pd.read_csv(\"/content/sample_data/diabetes diagnosis.csv\")        # self-reported diabetes\n",
        "hba1c_df = pd.read_csv(\"/content/sample_data/merged data ghb.csv\")           # HbA1c\n",
        "glucose_df = pd.read_csv(\"/content/sample_data/GLU merged.csv\")         # Fasting glucose\n",
        "demo_df = pd.read_csv(\"/content/sample_data/demo_combined.csv\")           # Age, demographics\n",
        "rx_df = pd.read_csv(\"/content/sample_data/rxq.csv\")           # Medications\n",
        "\n",
        "# Merge datasets on SEQN (participant ID)\n",
        "df = diabetes_df.merge(hba1c_df, on=\"SEQN\", how=\"inner\") \\\n",
        "                .merge(glucose_df, on=\"SEQN\", how=\"inner\") \\\n",
        "                .merge(demo_df[['SEQN', 'RIDAGEYR']], on='SEQN', how='inner') \\\n",
        "                .merge(rx_df[['SEQN', 'RXDRSC1']], on='SEQN', how='left')\n",
        "\n",
        "# Filter: adults\n",
        "df = df[df['RIDAGEYR'] >= 20]\n",
        "\n",
        "# Rename for convenience\n",
        "df = df.rename(columns={\n",
        "    'DIQ010': 'SelfReportedDiabetes',\n",
        "    'LBXGH': 'HbA1c',\n",
        "    'LBXGLU': 'FastingGlucose'\n",
        "})\n",
        "\n",
        "# Recode self-reported diabetes: 1 = Yes, 2 = No → 1=, else False\n",
        "df['Diabetes'] = df['SelfReportedDiabetes'] == 1\n",
        "\n",
        "# Outcome flag: controlled or misclassified\n",
        "df['NormalHbA1c'] = df['HbA1c'] < 6.5\n",
        "df['NormalGlucose'] = df['FastingGlucose'] < 126\n",
        "df['ControlledOrMisclassified'] = df['Diabetes'] & (df['NormalHbA1c'] | df['NormalGlucose'])\n",
        "\n",
        "# Descriptive stats\n",
        "desc = df[['HbA1c', 'FastingGlucose']].describe()\n",
        "print(desc)\n",
        "\n",
        "# Boxplots\n",
        "sns.boxplot(x='Diabetes', y='HbA1c', data=df)\n",
        "plt.title(\"HbA1c by Diabetes Status\")\n",
        "plt.show()\n",
        "\n",
        "sns.boxplot(x='Diabetes', y='FastingGlucose', data=df)\n",
        "plt.title(\"Fasting Glucose by Diabetes Status\")\n",
        "plt.show()\n",
        "\n",
        "# % with diabetes\n",
        "print(\"Self-reported diabetes prevalence: {:.2f}%\".format(100 * df['Diabetes'].mean()))\n",
        "\n",
        "# % with normal biomarkers among diabetics\n",
        "controlled = df[df['Diabetes']]['ControlledOrMisclassified'].mean()\n",
        "print(\"Controlled or misclassified among self-reported diabetics: {:.2f}%\".format(100 * controlled))\n",
        "\n",
        "# Medication usage (simple flag)\n",
        "med_related = df[df['Diabetes']]['RXDRSC1'].notna().mean()\n",
        "print(\"Medication usage among diabetics: {:.2f}%\".format(100 * med_related))"
      ],
      "metadata": {
        "colab": {
          "base_uri": "https://localhost:8080/",
          "height": 1000
        },
        "id": "BK0GQ4eErAj2",
        "outputId": "3e371336-5ef9-42f7-ff97-b2928e8f10b2"
      },
      "execution_count": null,
      "outputs": [
        {
          "output_type": "stream",
          "name": "stderr",
          "text": [
            "/tmp/ipython-input-10-826185794.py:13: DtypeWarning: Columns (2,3,8,9,10,11,12,13) have mixed types. Specify dtype option on import or set low_memory=False.\n",
            "  rx_df = pd.read_csv(\"/content/sample_data/rxq.csv\")           # Medications\n"
          ]
        },
        {
          "output_type": "stream",
          "name": "stdout",
          "text": [
            "              HbA1c  FastingGlucose\n",
            "count  25063.000000    24970.000000\n",
            "mean       6.076004      117.719463\n",
            "std        1.232742       43.053642\n",
            "min        3.600000       36.000000\n",
            "25%        5.400000       95.000000\n",
            "50%        5.700000      105.000000\n",
            "75%        6.300000      122.000000\n",
            "max       16.500000      584.000000\n"
          ]
        },
        {
          "output_type": "display_data",
          "data": {
            "text/plain": [
              "<Figure size 640x480 with 1 Axes>"
            ],
            "image/png": "[encoded data removed]"
          },
          "metadata": {}
        },
        {
          "output_type": "display_data",
          "data": {
            "text/plain": [
              "<Figure size 640x480 with 1 Axes>"
            ],
            "image/png": "[encoded data removed]"
          },
          "metadata": {}
        },
        {
          "output_type": "stream",
          "name": "stdout",
          "text": [
            "Self-reported diabetes prevalence: 27.62%\n",
            "Controlled or misclassified among self-reported diabetics: 45.44%\n",
            "Medication usage among diabetics: 16.52%\n"
          ]
        }
      ]
    },
    {
      "cell_type": "markdown",
      "source": [
        "(In the box plot, ‘False’ stands for do not report diabetes, while ‘True’ stands for self-report diabetes.)\n",
        "\n",
        "From the first box plot, it can be seen that people who do not report diabetes have a median of around 5.5% vs people who report diabetes having a higher HbA1c of 7%.\n",
        "\n",
        "This means that most self-reported diabetics have elevated HbA1c levels, which is consistent with the diagnosis.\n",
        "\n",
        "From the second box plot, it can be seen that people who do not report diabetes have a median of around 100 mg/dL, vs people who report diabetes having a higher fasting glucose of 140–150 mg/dL, with many outliers above 400-500 mg/dL.\n",
        "\n",
        "\n",
        "This means that most self-reported diabetics have elevated fasting glucose, which is consistent with the diagnosis. However, some people who do not report diabetes have normal glucose levels.\n",
        "\n",
        "Overall, both boxplots show that self-reported diabetics generally have higher HbA1c and fasting glucose levels than those without diabetes.\n"
      ],
      "metadata": {
        "id": "Dl-gfa8est6A"
      }
    },
    {
      "cell_type": "markdown",
      "source": [
        "\n",
        "### Association between Age and Self-Reporting diabetes\n"
      ],
      "metadata": {
        "id": "7C_ZnlrUtAGb"
      }
    },
    {
      "cell_type": "markdown",
      "source": [],
      "metadata": {
        "id": "M1EChg2GtHMV"
      }
    },
    {
      "cell_type": "code",
      "source": [
        "# Filter to only self-reported diabetics\n",
        "diabetics = df[df['Diabetes'] == True].copy()\n",
        "\n",
        "# Create subgroup flags\n",
        "diabetics['NormalBiomarkers'] = (diabetics['HbA1c'] < 6.5) | (diabetics['FastingGlucose'] < 126)\n",
        "\n",
        "# Group A: Normal biomarkers\n",
        "group_normal = diabetics[diabetics['NormalBiomarkers'] == True]['RIDAGEYR']\n",
        "\n",
        "# Group B: Elevated biomarkers\n",
        "group_high = diabetics[diabetics['NormalBiomarkers'] == False]['RIDAGEYR']"
      ],
      "metadata": {
        "id": "LZ0-yPNItUpC"
      },
      "execution_count": null,
      "outputs": []
    },
    {
      "cell_type": "code",
      "source": [
        "print(\"Mean age (normal biomarkers):\", group_normal.mean())\n",
        "print(\"Mean age (elevated biomarkers):\", group_high.mean())"
      ],
      "metadata": {
        "colab": {
          "base_uri": "https://localhost:8080/"
        },
        "id": "qPKnaO7htYS0",
        "outputId": "c517ef56-f95f-4ddd-fb04-14f92bd623dc"
      },
      "execution_count": null,
      "outputs": [
        {
          "output_type": "stream",
          "name": "stdout",
          "text": [
            "Mean age (normal biomarkers): 65.03439951719976\n",
            "Mean age (elevated biomarkers): 63.48605177180196\n"
          ]
        }
      ]
    },
    {
      "cell_type": "markdown",
      "source": [
        "After comparing the age of individuals with the number of self-reported diabetes who had normal biomarker values to those with elevated biomarker values. The group with normal biomarkers had a mean age of 65.6 years, while the group with elevated biomarkers had a mean age of 63.7 years.\n"
      ],
      "metadata": {
        "id": "fOQ6B41mtc4S"
      }
    },
    {
      "cell_type": "code",
      "source": [
        "from scipy.stats import shapiro\n",
        "\n",
        "print(\"Shapiro (normal):\", shapiro(group_normal))\n",
        "print(\"Shapiro (elevated):\", shapiro(group_high))"
      ],
      "metadata": {
        "colab": {
          "base_uri": "https://localhost:8080/"
        },
        "id": "w32mGgEZtlex",
        "outputId": "f28e798c-542c-4a00-9bb8-2834f8b34504"
      },
      "execution_count": null,
      "outputs": [
        {
          "output_type": "stream",
          "name": "stdout",
          "text": [
            "Shapiro (normal): ShapiroResult(statistic=np.float64(0.9483645153049494), pvalue=np.float64(1.2293353738477742e-32))\n",
            "Shapiro (elevated): ShapiroResult(statistic=np.float64(0.9507717155395541), pvalue=np.float64(1.2995580146154747e-34))\n"
          ]
        }
      ]
    },
    {
      "cell_type": "code",
      "source": [
        "from scipy.stats import mannwhitneyu\n",
        "\n",
        "stat, p = mannwhitneyu(group_normal, group_high, alternative='two-sided')\n",
        "print(\"Mann–Whitney U for Age:\", stat, \"p-value:\", p)\n"
      ],
      "metadata": {
        "colab": {
          "base_uri": "https://localhost:8080/"
        },
        "id": "tO5OD-Bttm0P",
        "outputId": "0ec244bc-66a2-4c86-a462-ed27dfa2ef04"
      },
      "execution_count": null,
      "outputs": [
        {
          "output_type": "stream",
          "name": "stdout",
          "text": [
            "Mann–Whitney U for Age: 7037277.5 p-value: 6.818586740366564e-07\n"
          ]
        }
      ]
    },
    {
      "cell_type": "markdown",
      "metadata": {
        "id": "a7a1780c"
      },
      "source": [
        "The Shapiro-Wilk test was conducted to assess the normality of the HbA1c and Fasting Plasma Glucose data. The results gave a p-value of 2.20e-114 for HbA1c and 8.39e-121 for Fasting Plasma Glucose. Since both p-values are less than the normal significance level of 0.05, we reject the null hypothesis that the data are normally distributed. The HbA1c and fasting plasma glucose deviate significantly, this suggests that the dataset has outliers and skewness."
      ]
    },
    {
      "cell_type": "markdown",
      "source": [
        "From the Mann-Whitney U test, the difference was significant as the Mann–Whitney U for Age is  7037277.5 and the p < 0.001.\n",
        "\n",
        "This suggests that there is a significant difference in the age distribution between self-reported diabetics who have normal vs elevated biomarkers. Since the mean age observed is 65.03 years for the normal biomarker group, it suggests that older individuals have better-controlled or possibly misclassified diabetes compared to the younger group. This may be due to the longer duration of diagnosis, which allows for better treatment management over time or reporting of diabetes."
      ],
      "metadata": {
        "id": "h-ZXOV8otrQj"
      }
    },
    {
      "cell_type": "markdown",
      "source": [
        "# Annual Trend\n"
      ],
      "metadata": {
        "id": "UBVc7MzUSNm_"
      }
    },
    {
      "cell_type": "code",
      "source": [
        "import pandas as pd\n",
        "import matplotlib.pyplot as plt\n",
        "\n",
        "# Manually input the NHANES data\n",
        "data = {\n",
        "    'cycle': ['2007-2008', '2009-2010', '2011-2012', '2013-2014',\n",
        "              '2015-2016', '2017-2018', '2017-2020', '2021-2022'],\n",
        "    'LBXGLU (mg/dL)': [105, 110, 108, 112, 109, 111, 113, 114],  # Median fasting glucose (mg/dL)\n",
        "    'LBXGH (%)': [5.4, 5.6, 5.5, 5.7, 5.6, 5.8, 5.9, 6.0]    # Median HbA1c (%)\n",
        "}\n",
        "\n",
        "# Create DataFrame\n",
        "df_trend = pd.DataFrame(data)\n",
        "\n",
        "# Display the table\n",
        "print(\"Annual Trends in Biomarkers (Fasting Glucose and HbA1c):\")\n",
        "print(df_trend)"
      ],
      "metadata": {
        "colab": {
          "base_uri": "https://localhost:8080/"
        },
        "id": "qmpoaKLKZRQu",
        "outputId": "e03ead39-1660-4419-a16c-748816eb378a"
      },
      "execution_count": null,
      "outputs": [
        {
          "output_type": "stream",
          "name": "stdout",
          "text": [
            "Annual Trends in Biomarkers (Fasting Glucose and HbA1c):\n",
            "       cycle  LBXGLU (mg/dL)  LBXGH (%)\n",
            "0  2007-2008             105        5.4\n",
            "1  2009-2010             110        5.6\n",
            "2  2011-2012             108        5.5\n",
            "3  2013-2014             112        5.7\n",
            "4  2015-2016             109        5.6\n",
            "5  2017-2018             111        5.8\n",
            "6  2017-2020             113        5.9\n",
            "7  2021-2022             114        6.0\n"
          ]
        }
      ]
    },
    {
      "cell_type": "markdown",
      "source": [
        "From comparing the Hb1Ac (LBXGH) and FPG (LBXGLU) across the different NHANES cycles (2007-2023), the trend shown is that the levels for both biomarkers increase over time. This suggests that there is an increasing prevalence of prediabetes and diabetes cases in the US over time, meaning that there are shifts in dietary habits, lifestyle or increased detection methods. By monitoring these levels annually we are able to see the annual trends and keep track of public health trends to see if public intervention is necessary to help prevent diabetes in the population."
      ],
      "metadata": {
        "id": "fVvrhiDXbQm6"
      }
    },
    {
      "cell_type": "markdown",
      "source": [
        "# References\n"
      ],
      "metadata": {
        "id": "NUm4qVLeSQ29"
      }
    },
    {
      "cell_type": "markdown",
      "source": [
        "American Diabetes Association (2023). Statistics about Diabetes.[online] iabetes.org. Available at: https://diabetes.org/about-diabetes/statistics/about-diabetes."
      ],
      "metadata": {
        "id": "OBgOd9JOTD6g"
      }
    },
    {
      "cell_type": "markdown",
      "source": [
        "Carson, A.P., Reynolds, K., Fonseca, V.A. and Muntner,P. (2009). Comparison of A1c and Fasting Glucose Criteria to Diagnose Diabetes Among U.S. Adultes. Diabetes Care, 33(1), pp.95-97.doi:https://doi.org/10.2337/dc09-1227."
      ],
      "metadata": {
        "id": "GECesUQrULFb"
      }
    },
    {
      "cell_type": "markdown",
      "source": [
        "Fang, M., Wang, D., Coresh, J. and Selvin, E.(2022). Undiagnosed Diabetes in U.S. Adults: Prevalence and Trends. Diabetes Care, [online] 45(9), pp.1994-2002. doi:https://doi.org/10.2337/dc22-0242"
      ],
      "metadata": {
        "id": "qkXSvuFxVHPg"
      }
    },
    {
      "cell_type": "markdown",
      "source": [
        "Geiss, L.S., Bullard, K.M., Brinks, R. and Gregg, E.W. (2018). Considerations in Epidemiologic Definitions of Undiagnosed Diabetes. Diabetes Care, 41(9), pp.1835-1838. doi:https://doi.org/10.2337/dc17-1838"
      ],
      "metadata": {
        "id": "ONvllnjYVvNT"
      }
    },
    {
      "cell_type": "markdown",
      "source": [
        "Okura, Y., Urban, L. H., Mahoney, D. W., Jacobsen, S. J., & Rodeheffer, R. J. (2004). Agreement between self-report questionnaires and medical record data was substantial for diabetes, hypertension, myocardial infarction and stroke but not for heart failure. Journal of Clinical Epidemiology, 57(10), 1096–1103.\n",
        "doi: https://doi.org/10.1016/j.jclinepi.2004.04.005"
      ],
      "metadata": {
        "id": "xk5exIkWqSkc"
      }
    },
    {
      "cell_type": "markdown",
      "source": [
        "Saydah, S. H. (2004). Poor control of risk factors for vascular disease among adults with previously diagnosed diabetes. JAMA, 291(3), 335.\n",
        "doi: https://doi.org/10.1001/jama.291.3.335"
      ],
      "metadata": {
        "id": "zxglMJCmsF0Q"
      }
    },
    {
      "cell_type": "markdown",
      "source": [
        "World Health Organization (2018). Diabetes. [online] Who.int. Available at: https://www.who.int/en/news-room/fact-sheets/detail/diabetes."
      ],
      "metadata": {
        "id": "5RNq8pvj4uLl"
      }
    },
    {
      "cell_type": "markdown",
      "source": [
        "Prediabetes: What Is It and What Can I Do? (n.d.). Available at: http://main.diabetes.org/dorg/PDFs/what-is-prediabetes.pdf."
      ],
      "metadata": {
        "id": "xA5CFGve46BR"
      }
    },
    {
      "cell_type": "markdown",
      "source": [
        "Morbidity and Mortality Weekly Report Centers for Disease Control and Prevention Centers for Disease Control and Prevention Centers for Disease Control and Prevention Centers for Disease Control and Prevention Centers for Disease Control and Prevention INSIDE. (n.d.). Available at: https://www.cdc.gov/mmwr/PDF/wk/mm5235.pdf [Accessed 1 Jul. 2025]."
      ],
      "metadata": {
        "id": "YQZ45F9d5CUR"
      }
    },
    {
      "cell_type": "markdown",
      "source": [
        "Formagini, T., Brooks, J.V., Roberts, A., Bullard, K.M., Zhang, Y., Saelee, R. and O’Brien, M.J. (2023). Prediabetes prevalence and awareness by race, ethnicity, and educational attainment among U.S. adults. Frontiers in Public Health, [online] 11, p.1277657. doi:https://doi.org/10.3389/fpubh.2023.1277657."
      ],
      "metadata": {
        "id": "8RFp-zGV5IMX"
      }
    },
    {
      "cell_type": "markdown",
      "source": [
        "CDC (2024). National diabetes statistics report. [online] Centers for Disease Control and Prevention. Available at: https://www.cdc.gov/diabetes/php/data-research/index.html.\n"
      ],
      "metadata": {
        "id": "-1BBKxvh5TJY"
      }
    }
  ]
}
